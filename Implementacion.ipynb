{
 "cells": [
  {
   "cell_type": "markdown",
   "id": "d3101c1e",
   "metadata": {},
   "source": [
    "Links:\n",
    "    https://towardsdatascience.com/loess-373d43b03564 <--- implementacion de python\n",
    "    \n",
    "    https://numpy.org/doc/stable/reference/index.html <--- numpy doc"
   ]
  },
  {
   "cell_type": "code",
   "execution_count": 4,
   "id": "87e1ee96",
   "metadata": {},
   "outputs": [],
   "source": [
    "import numpy as np"
   ]
  },
  {
   "cell_type": "code",
   "execution_count": 16,
   "id": "594e6970",
   "metadata": {},
   "outputs": [],
   "source": [
    "testData1 = np.random.randint(4, size=10)\n",
    "testData2 = np.random.randint(3, size=10)"
   ]
  },
  {
   "cell_type": "code",
   "execution_count": 5,
   "id": "b550fc45",
   "metadata": {},
   "outputs": [],
   "source": [
    "def tricubica (x):\n",
    "    y = np.zeros_like(x) #Return an array of zeros with the same shape and type as a given array\n",
    "    idx = (x >= 0) & (x < 1) #da un array de true o false dependiendo si el elemento en la posicion cumplia la condicion\n",
    "    y[idx] = np.power(1.0 - np.power(x[idx], 3), 3)\n",
    "    return y"
   ]
  },
  {
   "cell_type": "code",
   "execution_count": 18,
   "id": "f74e97f7",
   "metadata": {},
   "outputs": [
    {
     "data": {
      "text/plain": [
       "array([1, 0, 1, 0, 1, 0, 0, 1, 1, 1])"
      ]
     },
     "execution_count": 18,
     "metadata": {},
     "output_type": "execute_result"
    }
   ],
   "source": [
    "tricubica(testData1)"
   ]
  },
  {
   "cell_type": "markdown",
   "id": "4c2b7ed3",
   "metadata": {},
   "source": [
    "Upon initialization, both input arrays must be normalized to avoid problems of loss of significance (aka, catastrophic cancellation). This is done quite simply with a rescaling to the interval between zero and one."
   ]
  },
  {
   "cell_type": "code",
   "execution_count": 6,
   "id": "c7c1af03",
   "metadata": {},
   "outputs": [],
   "source": [
    "def normalizar_array(array):\n",
    "    min_val = np.min(array)\n",
    "    max_val = np.max(array)\n",
    "    return (array - min_val) / (max_val - min_val), min_val, max_val"
   ]
  },
  {
   "cell_type": "code",
   "execution_count": 21,
   "id": "239eb432",
   "metadata": {},
   "outputs": [
    {
     "name": "stdout",
     "output_type": "stream",
     "text": [
      "[0 3 0 3 0 2 1 0 0 0]\n",
      "(array([0.        , 1.        , 0.        , 1.        , 0.        ,\n",
      "       0.66666667, 0.33333333, 0.        , 0.        , 0.        ]), 0, 3)\n"
     ]
    }
   ],
   "source": [
    "normData = normalizar_array(testData1)\n",
    "print(testData1)\n",
    "print(normData)"
   ]
  },
  {
   "cell_type": "code",
   "execution_count": 7,
   "id": "b0d86c2a",
   "metadata": {},
   "outputs": [],
   "source": [
    "def obtenerPesos(distancias, min_range):\n",
    "    max_dist = np.max(distancias[min_range])\n",
    "    pesos = tricubica(distancias[min_range] / max_dist)"
   ]
  },
  {
   "cell_type": "markdown",
   "id": "a6ad6e38",
   "metadata": {},
   "source": [
    "Hasta aca llegue, tampoco quiero meterle mucho si no les gusta la idea de basarse en el articulo :p"
   ]
  },
  {
   "cell_type": "code",
   "execution_count": 8,
   "id": "26c7d4b4",
   "metadata": {},
   "outputs": [],
   "source": [
    "def get_min_range(distancias, q):\n",
    "    min_idx = np.argmin(distancias)\n",
    "    n = len(distancias)\n",
    "    if min_idx == 0:\n",
    "        return np.arange(0, q)\n",
    "    if min_idx == n-1:\n",
    "        return np.arange(n - q, n)\n",
    "    \n",
    "    min_range = [min_idx]    \n",
    "    while len(min_range) < q:\n",
    "        i0 = min_range[0]\n",
    "        i1 = min_range[-1]\n",
    "        if i0 == 0:\n",
    "            min_range.append(i1 + 1)\n",
    "        elif i1 == n-1:\n",
    "            min_range.insert(0, i0 - 1)\n",
    "        elif distancias[i0-1] < distancias[i1+1]:\n",
    "            min_range.insert(0, i0 - 1)\n",
    "        else:\n",
    "            min_range.append(i1 + 1)\n",
    "    return np.array(min_range)\n",
    "    "
   ]
  },
  {
   "cell_type": "code",
   "execution_count": null,
   "id": "1b2429c3",
   "metadata": {},
   "outputs": [],
   "source": [
    "\n",
    "def estimate(x, q, degree=1):\n",
    "    n_x = normalizar_array(x)\n",
    "    distances = np.abs(self.n_xx - n_x)\n",
    "    min_range = get_min_range(distances, window)\n",
    "    weights = get_weights(distances, min_range)\n",
    "\n",
    "    wm = np.multiply(np.eye(window), weights)\n",
    "    xm = np.ones((window, degree + 1))\n",
    "\n",
    "    xp = np.array([[math.pow(n_x, p)] for p in range(degree + 1)])\n",
    "    for i in range(1, degree + 1):\n",
    "        xm[:, i] = np.power(self.n_xx[min_range], i)\n",
    "\n",
    "    ym = self.n_yy[min_range]\n",
    "    xmt_wm = np.transpose(xm) @ wm\n",
    "    beta = np.linalg.pinv(xmt_wm @ xm) @ xmt_wm @ ym\n",
    "    y = (beta @ xp)[0]\n",
    "   \n",
    "    return self.denormalize_y(y)\n"
   ]
  }
 ],
 "metadata": {
  "kernelspec": {
   "display_name": "Python 3 (ipykernel)",
   "language": "python",
   "name": "python3"
  },
  "language_info": {
   "codemirror_mode": {
    "name": "ipython",
    "version": 3
   },
   "file_extension": ".py",
   "mimetype": "text/x-python",
   "name": "python",
   "nbconvert_exporter": "python",
   "pygments_lexer": "ipython3",
   "version": "3.9.12"
  }
 },
 "nbformat": 4,
 "nbformat_minor": 5
}
