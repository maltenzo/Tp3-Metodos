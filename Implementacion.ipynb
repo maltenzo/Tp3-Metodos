{
 "cells": [
  {
   "cell_type": "code",
   "execution_count": 42,
   "id": "295ac25c",
   "metadata": {},
   "outputs": [],
   "source": [
    "import os\n",
    "import numpy as np\n",
    "from os import path\n",
    "import pandas as pd\n",
    "from itertools import combinations\n",
    "import pylab as pl\n",
    "import time \n",
    "from sklearn.preprocessing import PolynomialFeatures\n"
   ]
  },
  {
   "cell_type": "markdown",
   "id": "72d56ee3",
   "metadata": {},
   "source": [
    "#Funcion de distancia 1/4"
   ]
  },
  {
   "cell_type": "code",
   "execution_count": 43,
   "id": "32d5cdce",
   "metadata": {},
   "outputs": [],
   "source": [
    "VARIABLES = [\n",
    "    \"ozone\",\n",
    "    \"radiation\",\n",
    "    \"wind\",\n",
    "    \"temperature\"\n",
    "]"
   ]
  },
  {
   "cell_type": "code",
   "execution_count": 44,
   "id": "48ae92c5",
   "metadata": {},
   "outputs": [],
   "source": [
    "paths = [\n",
    "    \"Resultados\",\n",
    "    \"Data\",\n",
    "    \"images\"\n",
    "]\n",
    "def crearPaths(paths=paths):\n",
    "    for p in paths:    \n",
    "        if not path.exists(f\"{os.getcwd()}/{p}\"):\n",
    "            os.mkdir(f\"{os.getcwd()}/{p}\")\n",
    "crearPaths()\n",
    "\n",
    "\n"
   ]
  },
  {
   "cell_type": "code",
   "execution_count": 45,
   "id": "47a5dcf4",
   "metadata": {},
   "outputs": [
    {
     "data": {
      "text/html": [
       "<div>\n",
       "<style scoped>\n",
       "    .dataframe tbody tr th:only-of-type {\n",
       "        vertical-align: middle;\n",
       "    }\n",
       "\n",
       "    .dataframe tbody tr th {\n",
       "        vertical-align: top;\n",
       "    }\n",
       "\n",
       "    .dataframe thead th {\n",
       "        text-align: right;\n",
       "    }\n",
       "</style>\n",
       "<table border=\"1\" class=\"dataframe\">\n",
       "  <thead>\n",
       "    <tr style=\"text-align: right;\">\n",
       "      <th></th>\n",
       "      <th>X</th>\n",
       "      <th>radiation</th>\n",
       "      <th>temperature</th>\n",
       "      <th>wind</th>\n",
       "    </tr>\n",
       "    <tr>\n",
       "      <th>index</th>\n",
       "      <th></th>\n",
       "      <th></th>\n",
       "      <th></th>\n",
       "      <th></th>\n",
       "    </tr>\n",
       "  </thead>\n",
       "  <tbody>\n",
       "    <tr>\n",
       "      <th>1</th>\n",
       "      <td>1</td>\n",
       "      <td>190</td>\n",
       "      <td>67</td>\n",
       "      <td>7.4</td>\n",
       "    </tr>\n",
       "    <tr>\n",
       "      <th>2</th>\n",
       "      <td>2</td>\n",
       "      <td>118</td>\n",
       "      <td>72</td>\n",
       "      <td>8.0</td>\n",
       "    </tr>\n",
       "    <tr>\n",
       "      <th>3</th>\n",
       "      <td>3</td>\n",
       "      <td>149</td>\n",
       "      <td>74</td>\n",
       "      <td>12.6</td>\n",
       "    </tr>\n",
       "    <tr>\n",
       "      <th>4</th>\n",
       "      <td>4</td>\n",
       "      <td>313</td>\n",
       "      <td>62</td>\n",
       "      <td>11.5</td>\n",
       "    </tr>\n",
       "    <tr>\n",
       "      <th>5</th>\n",
       "      <td>5</td>\n",
       "      <td>299</td>\n",
       "      <td>65</td>\n",
       "      <td>8.6</td>\n",
       "    </tr>\n",
       "  </tbody>\n",
       "</table>\n",
       "</div>"
      ],
      "text/plain": [
       "       X  radiation  temperature  wind\n",
       "index                                 \n",
       "1      1        190           67   7.4\n",
       "2      2        118           72   8.0\n",
       "3      3        149           74  12.6\n",
       "4      4        313           62  11.5\n",
       "5      5        299           65   8.6"
      ]
     },
     "execution_count": 45,
     "metadata": {},
     "output_type": "execute_result"
    }
   ],
   "source": [
    "#Separo el dataset en los x y\n",
    "\n",
    "df_data = pd.read_csv(\"./dataset.csv\", index_col=\"index\")\n",
    "ozono = df_data[\"ozone\"]\n",
    "df_vars = df_data.drop(\"ozone\", axis=1)\n",
    "\n",
    "df_vars.to_csv(\"Data/variables.csv\")\n",
    "ozono.to_csv(\"Data/ozono.csv\")\n",
    "df_vars.head()"
   ]
  },
  {
   "cell_type": "code",
   "execution_count": 46,
   "id": "69a7eb0e",
   "metadata": {},
   "outputs": [],
   "source": [
    "#le aplica la tricubica a un array\n",
    "def tricubic(x):\n",
    "    y = np.zeros_like(x)\n",
    "    idx = (x >= -1) & (x <= 1)\n",
    "    y[idx] = np.power(1.0 - np.power(np.abs(x[idx]), 3), 3)\n",
    "    return y"
   ]
  },
  {
   "cell_type": "code",
   "execution_count": 47,
   "id": "82ba646a",
   "metadata": {},
   "outputs": [],
   "source": [
    "def estandarizar(variable):\n",
    "\tesperanza = np.mean(variable)\n",
    "\tvar = np.var(variable)\n",
    "\treturn (variable - esperanza)/var\n",
    "\n",
    "def desestandarizar(variable, valor):\n",
    "\tesperanza = np.mean(variable)\n",
    "\tvar = np.var(variable)\n",
    "\treturn valor*var + esperanza\n",
    "\n",
    "#Para que es 'valor'?"
   ]
  },
  {
   "cell_type": "code",
   "execution_count": 48,
   "id": "fe155ffb",
   "metadata": {},
   "outputs": [],
   "source": [
    "def euclideanDistances(punto, array_de_puntos):\n",
    "    results = []\n",
    "    for punto_del_array in array_de_puntos:\n",
    "        diferencia = punto - punto_del_array\n",
    "        distancia = np.linalg.norm(diferencia)\n",
    "        results.append(distancia) \n",
    "    return np.array(results)\n"
   ]
  },
  {
   "cell_type": "code",
   "execution_count": 49,
   "id": "aaf1ff3f",
   "metadata": {},
   "outputs": [
    {
     "name": "stdout",
     "output_type": "stream",
     "text": [
      "Original:  41.0\n",
      "39.17825652313793\n"
     ]
    }
   ],
   "source": [
    "\n",
    "class Loess(object):\n",
    "\n",
    "    @staticmethod\n",
    "    def normalize_array(array):\n",
    "        min_val = np.min(array)\n",
    "        max_val = np.max(array)\n",
    "        return (array - min_val) / (max_val - min_val), min_val, max_val\n",
    "\n",
    "    \n",
    "    def normalize_matrix(self, matrix):\n",
    "        return np.array(list(map(self.normalize_array, matrix)), dtype=object).transpose()\n",
    "        #¿Por qué cambiarlo a list y transponerlo? \n",
    "\n",
    "    def __init__(self, xx, yy, degree=1):\n",
    "        self.n_vars_xx, self.array_mins_xx, self.array_maxs_xx = self.normalize_matrix(xx)\n",
    "        self.n_yy, self.min_yy, self.max_yy = self.normalize_array(yy)\n",
    "        self.degree = degree\n",
    "\n",
    "        self.n_vars_xx = np.array(list(self.n_vars_xx)).transpose()\n",
    "        # print(self.n_vars_xx)\n",
    "        # print(self.array_mins_xx)\n",
    "        # print(self.array_maxs_xx)\n",
    "\n",
    "    @staticmethod\n",
    "    def get_min_idx_range(distances, window):\n",
    "        min_idx = np.argmin(distances)\n",
    "        n = len(distances)\n",
    "        if min_idx == 0:\n",
    "            return np.arange(0, window)\n",
    "            \n",
    "        if min_idx == n-1:\n",
    "            return np.arange(n - window, n)\n",
    "            \n",
    "        min_range = [min_idx]\n",
    "        while len(min_range) < window:\n",
    "            i0 = min_range[0]\n",
    "            i1 = min_range[-1]\n",
    "            if i0 == 0:\n",
    "                min_range.append(i1 + 1)\n",
    "            elif i1 == n-1:\n",
    "                min_range.insert(0, i0 - 1)\n",
    "            elif distances[i0-1] < distances[i1+1]:\n",
    "                min_range.insert(0, i0 - 1)\n",
    "            else:\n",
    "                min_range.append(i1 + 1)\n",
    "        \n",
    "        return np.array(min_range)\n",
    "    \n",
    "\n",
    "    @staticmethod\n",
    "    def get_weights(distances, min_range):\n",
    "        max_distance = np.max(distances[min_range])\n",
    "        weights = tricubic(distances[min_range] / max_distance)\n",
    "        return np.array(weights)\n",
    "\n",
    "    def normalize_x(self, array_of_values):\n",
    "        return (array_of_values - self.array_mins_xx) / (self.array_maxs_xx - self.array_mins_xx)\n",
    "\n",
    "    def denormalize_y(self, value):\n",
    "        return value * (self.max_yy - self.min_yy) + self.min_yy\n",
    "\n",
    "    def estimate(self, x, window, degree=1):\n",
    "        n_x = self.normalize_x(x)\n",
    "        distances = euclideanDistances(n_x, self.n_vars_xx)\n",
    "        min_idx_range = self.get_min_idx_range(distances, window )\n",
    "        weights = self.get_weights(distances, min_idx_range)\n",
    "        wm = np.multiply(np.eye(window), weights)\n",
    "        \n",
    "        poly = PolynomialFeatures(degree)\n",
    "        xp = n_x.reshape(1,-1)\n",
    "        xp = poly.fit_transform(xp)\n",
    "\n",
    "        xm = self.n_vars_xx[min_idx_range]\n",
    "        xm = poly.fit_transform(xm)\n",
    "\n",
    "        ym = np.array(list(self.n_yy[min_idx_range]))\n",
    "        # print(ym)\n",
    "        \n",
    "        xmt = np.transpose(xm)\n",
    "        xmt_wm = xmt @ wm\n",
    "        # print(xmt_wm)\n",
    "        \n",
    "        beta = np.linalg.pinv(xmt_wm @ xm) @ xmt_wm @ ym\n",
    "        # print(beta)\n",
    "    \n",
    "        y = (beta @ xp.transpose())\n",
    "\n",
    "        return self.denormalize_y(y)\n",
    "\n",
    "\n",
    "def main():\n",
    "    xx = np.genfromtxt(\"Data/variables.csv\", delimiter=\",\", skip_header=1, usecols=(2,3,4))\n",
    "    yy = np.genfromtxt(\"Data/ozono.csv\", delimiter=\",\", skip_header=1, usecols=(1))\n",
    "    \n",
    "    \n",
    "    xx = np.array(list(map(estandarizar, xx.transpose()))) #lo trasponemos una sola vez\n",
    "    \n",
    "    est_y = estandarizar(yy) \n",
    "    loess = Loess(xx, est_y)  \n",
    "    print(\"Original: \", yy[0])\n",
    "    predicciones = []\n",
    "    for x in xx.transpose():\n",
    "        y = loess.estimate(x, window=111, degree=2)\n",
    "        print(float(desestandarizar(yy, y)))\n",
    "        break\n",
    "        predicciones.append(float(desestandarizar(yy, y)))\n",
    "        \n",
    "    df_resultado = pd.DataFrame(predicciones, columns=[\"predicciones\"])\n",
    "    df_resultado.to_csv(\"./Resultados/predicciones_base.csv\")\n",
    "    \n",
    "\n",
    "if __name__ == \"__main__\":\n",
    "    start = time.time()\n",
    "\n",
    "    main()\n",
    "\n",
    "    end = time. time()\n",
    "    #print(end - start)\n",
    "    #print(end - start)"
   ]
  },
  {
   "cell_type": "code",
   "execution_count": 50,
   "id": "26475bb2",
   "metadata": {},
   "outputs": [],
   "source": [
    "def estimarLoess(variablesEntrada, variableSalida, archivoSalida, f, grado):\n",
    "    xx = np.genfromtxt(variablesEntrada, delimiter=\",\", skip_header=1, usecols=(2,3,4))\n",
    "    yy = np.genfromtxt(variableSalida, delimiter=\",\", skip_header=1, usecols=(1))\n",
    "    \n",
    "    \n",
    "    xx = np.array(list(map(estandarizar, xx.transpose()))) #lo trasponemos una sola vez\n",
    "    \n",
    "    est_y = estandarizar(yy) \n",
    "    loess = Loess(xx, est_y) \n",
    "    q = int(np.round(f*111))\n",
    "    predicciones = []\n",
    "    for x in xx.transpose():\n",
    "        y = loess.estimate(x, window=q, degree=grado)\n",
    "        predicciones.append(float(desestandarizar(yy, y)))\n",
    "        \n",
    "    df_resultado = pd.DataFrame(predicciones, columns=[\"predicciones\"])\n",
    "    df_resultado.to_csv(archivoSalida)"
   ]
  },
  {
   "cell_type": "code",
   "execution_count": 51,
   "id": "f2935e50",
   "metadata": {},
   "outputs": [],
   "source": [
    "variablesPath = \"Data/variables.csv\"\n",
    "ozonoPath = \"Data/ozono.csv\""
   ]
  },
  {
   "cell_type": "markdown",
   "id": "2dc1ac5c",
   "metadata": {},
   "source": [
    "# Primer experimento con f = .4 lineal"
   ]
  },
  {
   "cell_type": "code",
   "execution_count": 57,
   "id": "2298c97c",
   "metadata": {},
   "outputs": [],
   "source": [
    "resultadosPunto4Path = './Resultados/f=.4-lineal-ozono.svg'\n",
    "estimarLoess(variablesPath, ozonoPath, resultadosPunto4Path, .4, 1)\n",
    "\n",
    "ozono_estimado = np.genfromtxt(resultadosPunto4Path, delimiter=\",\", skip_header=1, usecols=(1))\n",
    "ozono_real = np.genfromtxt(ozonoPath, delimiter=\",\", skip_header=1, usecols=(1))\n",
    "\n",
    "diferencia_ozono = ozono_estimado - ozono_real\n",
    "diferencia_abs_ozono = np.abs(diferencia_ozono)\n"
   ]
  },
  {
   "cell_type": "code",
   "execution_count": 56,
   "id": "10d23cfd",
   "metadata": {},
   "outputs": [],
   "source": [
    "#Funcion para calcular el axis X de un QQplot en base a los datos del axis y\n",
    "def QQplotX(ypoints):\n",
    "    n = ypoints.size\n",
    "    xpoints = []\n",
    "    for i in range(1,n+1):\n",
    "        xpoints.append( np.quantile( ypoints, i/(n+1) ) )\n",
    "    return np.array(xpoints)\n",
    "    "
   ]
  },
  {
   "cell_type": "code",
   "execution_count": 54,
   "id": "b6982c77",
   "metadata": {},
   "outputs": [],
   "source": [
    "import pandas as pd\n",
    "import seaborn as sns\n",
    "import matplotlib.pyplot as plt"
   ]
  },
  {
   "cell_type": "code",
   "execution_count": 55,
   "id": "41ca278a",
   "metadata": {},
   "outputs": [
    {
     "data": {
      "image/png": "[encoded data removed]",
      "text/plain": [
       "<Figure size 432x288 with 1 Axes>"
      ]
     },
     "metadata": {
      "needs_background": "light"
     },
     "output_type": "display_data"
    }
   ],
   "source": [
    "diferencia_ozono_ordenada = diferencia_ozono\n",
    "diferencia_ozono_ordenada.sort()\n",
    "residual_quantiles = QQplotX(diferencia_ozono_ordenada)\n",
    "fig = plt.plot(residual_quantiles, diferencia_ozono_ordenada, 'o')\n",
    "plt.xlabel('Qunatiles Normales')\n",
    "plt.ylabel('Residuales')\n",
    "plt.savefig('./images/Residuales-contra-quantiles-f=punto4.svg')"
   ]
  },
  {
   "cell_type": "code",
   "execution_count": 20,
   "id": "205c5c4d",
   "metadata": {},
   "outputs": [
    {
     "data": {
      "image/png": "[encoded data removed]",
      "text/plain": [
       "<Figure size 432x288 with 1 Axes>"
      ]
     },
     "metadata": {
      "needs_background": "light"
     },
     "output_type": "display_data"
    }
   ],
   "source": [
    "\n",
    "fig = plt.plot(ozono_estimado, diferencia_abs_ozono, 'o')\n",
    "plt.xlabel('Ozono Estimado')\n",
    "plt.ylabel('Residuales')\n",
    "plt.savefig('./images/Residuales-contra-ozono-f=punto4.svg')"
   ]
  },
  {
   "cell_type": "code",
   "execution_count": null,
   "id": "01a5e553",
   "metadata": {},
   "outputs": [],
   "source": [
    "df = pd.read_csv(\"dataset.csv\")\n",
    "def graficarDatosBrutos(xlabel, ylabel):\n",
    "    pl.clf()\n",
    "    pl.scatter(x=df[xlabel], y=df[ylabel])\n",
    "    pl.savefig(f\"./images/{ylabel}-en-funcion-de-{xlabel}.svg\")\n",
    "    pl.clf()\n",
    "    pl.scatter(x=df[ylabel], y=df[xlabel])\n",
    "    pl.savefig(f\"./images/{xlabel}-en-funcion-de-{ylabel}.svg\")"
   ]
  },
  {
   "cell_type": "code",
   "execution_count": null,
   "id": "92c5b4d4",
   "metadata": {},
   "outputs": [],
   "source": [
    "combinationsOfTwo = list(combinations(VARIABLES, 2))\n",
    "for par in combinationsOfTwo :\n",
    "    print(par[0], par[1])\n",
    "    graficarDatosBrutos(par[0], par[1])\n",
    "    \n"
   ]
  },
  {
   "cell_type": "code",
   "execution_count": null,
   "id": "35ce179a",
   "metadata": {},
   "outputs": [],
   "source": [
    "graficarDatosBrutos(\"radiation\", \"temperature\")"
   ]
  },
  {
   "cell_type": "code",
   "execution_count": 36,
   "id": "c486d1a3",
   "metadata": {},
   "outputs": [
    {
     "data": {
      "text/html": [
       "<div>\n",
       "<style scoped>\n",
       "    .dataframe tbody tr th:only-of-type {\n",
       "        vertical-align: middle;\n",
       "    }\n",
       "\n",
       "    .dataframe tbody tr th {\n",
       "        vertical-align: top;\n",
       "    }\n",
       "\n",
       "    .dataframe thead th {\n",
       "        text-align: right;\n",
       "    }\n",
       "</style>\n",
       "<table border=\"1\" class=\"dataframe\">\n",
       "  <thead>\n",
       "    <tr style=\"text-align: right;\">\n",
       "      <th></th>\n",
       "      <th>Unnamed: 0</th>\n",
       "      <th>predicciones</th>\n",
       "    </tr>\n",
       "  </thead>\n",
       "  <tbody>\n",
       "    <tr>\n",
       "      <th>0</th>\n",
       "      <td>0</td>\n",
       "      <td>25.934539</td>\n",
       "    </tr>\n",
       "    <tr>\n",
       "      <th>1</th>\n",
       "      <td>1</td>\n",
       "      <td>20.499023</td>\n",
       "    </tr>\n",
       "    <tr>\n",
       "      <th>2</th>\n",
       "      <td>2</td>\n",
       "      <td>22.484853</td>\n",
       "    </tr>\n",
       "    <tr>\n",
       "      <th>3</th>\n",
       "      <td>3</td>\n",
       "      <td>28.428890</td>\n",
       "    </tr>\n",
       "    <tr>\n",
       "      <th>4</th>\n",
       "      <td>4</td>\n",
       "      <td>31.619311</td>\n",
       "    </tr>\n",
       "    <tr>\n",
       "      <th>...</th>\n",
       "      <td>...</td>\n",
       "      <td>...</td>\n",
       "    </tr>\n",
       "    <tr>\n",
       "      <th>106</th>\n",
       "      <td>106</td>\n",
       "      <td>18.904616</td>\n",
       "    </tr>\n",
       "    <tr>\n",
       "      <th>107</th>\n",
       "      <td>107</td>\n",
       "      <td>32.009909</td>\n",
       "    </tr>\n",
       "    <tr>\n",
       "      <th>108</th>\n",
       "      <td>108</td>\n",
       "      <td>24.049632</td>\n",
       "    </tr>\n",
       "    <tr>\n",
       "      <th>109</th>\n",
       "      <td>109</td>\n",
       "      <td>26.286799</td>\n",
       "    </tr>\n",
       "    <tr>\n",
       "      <th>110</th>\n",
       "      <td>110</td>\n",
       "      <td>27.245129</td>\n",
       "    </tr>\n",
       "  </tbody>\n",
       "</table>\n",
       "<p>111 rows × 2 columns</p>\n",
       "</div>"
      ],
      "text/plain": [
       "     Unnamed: 0  predicciones\n",
       "0             0     25.934539\n",
       "1             1     20.499023\n",
       "2             2     22.484853\n",
       "3             3     28.428890\n",
       "4             4     31.619311\n",
       "..          ...           ...\n",
       "106         106     18.904616\n",
       "107         107     32.009909\n",
       "108         108     24.049632\n",
       "109         109     26.286799\n",
       "110         110     27.245129\n",
       "\n",
       "[111 rows x 2 columns]"
      ]
     },
     "execution_count": 36,
     "metadata": {},
     "output_type": "execute_result"
    },
    {
     "data": {
      "image/png": "[encoded data removed]",
      "text/plain": [
       "<Figure size 432x288 with 1 Axes>"
      ]
     },
     "metadata": {
      "needs_background": "light"
     },
     "output_type": "display_data"
    }
   ],
   "source": [
    "\n",
    "df_predicciones = pd.read_csv(\"./Resultados/predicciones_base.csv\")\n",
    "df_independientes = pd.read_csv(\"dataset.csv\")\n",
    "\n",
    "\n",
    "pl.clf()\n",
    "pl.plot(df_independientes[\"X\"], df_predicciones[\"predicciones\"], color=\"red\")\n",
    "pl.plot(df_independientes[\"X\"], df_independientes[\"ozone\"])\n",
    "df_predicciones"
   ]
  },
  {
   "cell_type": "markdown",
   "id": "c7041142",
   "metadata": {},
   "source": [
    "Para hacer:\n",
    "    Lineal:\n",
    "    * con f = .4, g(xi) contra g(xi) - yi\n",
    "    * mismo anterior pero contra |g(xi) -yi| con una curva de g(g(xi)) con f=2/3\n",
    "    *mismo pero estimado contra variables con curva de g(g(xi)) con f=2/3\n",
    "\n",
    "    Cuadratica:\n",
    "    *datos: con f=.8, la sqrt(g(xi),3)\n",
    "    *"
   ]
  },
  {
   "cell_type": "code",
   "execution_count": null,
   "id": "58957e94",
   "metadata": {},
   "outputs": [],
   "source": []
  },
  {
   "cell_type": "markdown",
   "id": "5b722036",
   "metadata": {},
   "source": []
  }
 ],
 "metadata": {
  "kernelspec": {
   "display_name": "Python 3.8.10 ('metodosTP2')",
   "language": "python",
   "name": "python3"
  },
  "language_info": {
   "codemirror_mode": {
    "name": "ipython",
    "version": 3
   },
   "file_extension": ".py",
   "mimetype": "text/x-python",
   "name": "python",
   "nbconvert_exporter": "python",
   "pygments_lexer": "ipython3",
   "version": "3.8.10"
  },
  "vscode": {
   "interpreter": {
    "hash": "8344703f0a84877529c46e261d4f1cd9ed0ca6d4d423603980e1c9fbc5082b83"
   }
  }
 },
 "nbformat": 4,
 "nbformat_minor": 5
}
