{
 "cells": [
  {
   "cell_type": "code",
   "execution_count": 3,
   "id": "295ac25c",
   "metadata": {},
   "outputs": [],
   "source": [
    "import os\n",
    "import numpy as np\n",
    "from os import path\n",
    "import pandas as pd\n",
    "from itertools import combinations\n",
    "import pylab as pl\n",
    "import time \n",
    "from sklearn.preprocessing import PolynomialFeatures\n"
   ]
  },
  {
   "cell_type": "markdown",
   "id": "72d56ee3",
   "metadata": {},
   "source": [
    "#Funcion de distancia 1/4"
   ]
  },
  {
   "cell_type": "code",
   "execution_count": 4,
   "id": "32d5cdce",
   "metadata": {},
   "outputs": [],
   "source": [
    "VARIABLES = [\n",
    "    \"ozone\",\n",
    "    \"radiation\",\n",
    "    \"wind\",\n",
    "    \"temperature\"\n",
    "]"
   ]
  },
  {
   "cell_type": "code",
   "execution_count": 5,
   "id": "48ae92c5",
   "metadata": {},
   "outputs": [],
   "source": [
    "paths = [\n",
    "    \"Resultados\",\n",
    "    \"Data\",\n",
    "    \"images\"\n",
    "]\n",
    "def crearPaths(paths=paths):\n",
    "    for p in paths:    \n",
    "        if not path.exists(f\"{os.getcwd()}/{p}\"):\n",
    "            os.mkdir(f\"{os.getcwd()}/{p}\")\n",
    "crearPaths()\n",
    "\n",
    "\n"
   ]
  },
  {
   "cell_type": "code",
   "execution_count": 6,
   "id": "47a5dcf4",
   "metadata": {},
   "outputs": [
    {
     "data": {
      "text/html": [
       "<div>\n",
       "<style scoped>\n",
       "    .dataframe tbody tr th:only-of-type {\n",
       "        vertical-align: middle;\n",
       "    }\n",
       "\n",
       "    .dataframe tbody tr th {\n",
       "        vertical-align: top;\n",
       "    }\n",
       "\n",
       "    .dataframe thead th {\n",
       "        text-align: right;\n",
       "    }\n",
       "</style>\n",
       "<table border=\"1\" class=\"dataframe\">\n",
       "  <thead>\n",
       "    <tr style=\"text-align: right;\">\n",
       "      <th></th>\n",
       "      <th>X</th>\n",
       "      <th>radiation</th>\n",
       "      <th>temperature</th>\n",
       "      <th>wind</th>\n",
       "    </tr>\n",
       "    <tr>\n",
       "      <th>index</th>\n",
       "      <th></th>\n",
       "      <th></th>\n",
       "      <th></th>\n",
       "      <th></th>\n",
       "    </tr>\n",
       "  </thead>\n",
       "  <tbody>\n",
       "    <tr>\n",
       "      <th>1</th>\n",
       "      <td>1</td>\n",
       "      <td>190</td>\n",
       "      <td>67</td>\n",
       "      <td>7.4</td>\n",
       "    </tr>\n",
       "    <tr>\n",
       "      <th>2</th>\n",
       "      <td>2</td>\n",
       "      <td>118</td>\n",
       "      <td>72</td>\n",
       "      <td>8.0</td>\n",
       "    </tr>\n",
       "    <tr>\n",
       "      <th>3</th>\n",
       "      <td>3</td>\n",
       "      <td>149</td>\n",
       "      <td>74</td>\n",
       "      <td>12.6</td>\n",
       "    </tr>\n",
       "    <tr>\n",
       "      <th>4</th>\n",
       "      <td>4</td>\n",
       "      <td>313</td>\n",
       "      <td>62</td>\n",
       "      <td>11.5</td>\n",
       "    </tr>\n",
       "    <tr>\n",
       "      <th>5</th>\n",
       "      <td>5</td>\n",
       "      <td>299</td>\n",
       "      <td>65</td>\n",
       "      <td>8.6</td>\n",
       "    </tr>\n",
       "  </tbody>\n",
       "</table>\n",
       "</div>"
      ],
      "text/plain": [
       "       X  radiation  temperature  wind\n",
       "index                                 \n",
       "1      1        190           67   7.4\n",
       "2      2        118           72   8.0\n",
       "3      3        149           74  12.6\n",
       "4      4        313           62  11.5\n",
       "5      5        299           65   8.6"
      ]
     },
     "execution_count": 6,
     "metadata": {},
     "output_type": "execute_result"
    }
   ],
   "source": [
    "#Separo el dataset en los x y\n",
    "\n",
    "df_data = pd.read_csv(\"./dataset.csv\", index_col=\"index\")\n",
    "ozono = df_data[\"ozone\"]\n",
    "df_vars = df_data.drop(\"ozone\", axis=1)\n",
    "\n",
    "df_vars.to_csv(\"Data/variables.csv\")\n",
    "ozono.to_csv(\"Data/ozono.csv\")\n",
    "df_vars.head()"
   ]
  },
  {
   "cell_type": "code",
   "execution_count": 7,
   "id": "69a7eb0e",
   "metadata": {},
   "outputs": [],
   "source": [
    "#le aplica la tricubica a un array\n",
    "def tricubic(x):\n",
    "    y = np.zeros_like(x)\n",
    "    idx = (x >= -1) & (x <= 1)\n",
    "    y[idx] = np.power(1.0 - np.power(np.abs(x[idx]), 3), 3)\n",
    "    return y"
   ]
  },
  {
   "cell_type": "code",
   "execution_count": 8,
   "id": "82ba646a",
   "metadata": {},
   "outputs": [],
   "source": [
    "def estandarizar(variable):\n",
    "\tesperanza = np.mean(variable)\n",
    "\tvar = np.var(variable)\n",
    "\treturn (variable - esperanza)/var\n",
    "\n",
    "def desestandarizar(variable, valor):\n",
    "\tesperanza = np.mean(variable)\n",
    "\tvar = np.var(variable)\n",
    "\treturn valor*var + esperanza\n",
    "\n",
    "#Para que es 'valor'?"
   ]
  },
  {
   "cell_type": "code",
   "execution_count": 9,
   "id": "fe155ffb",
   "metadata": {},
   "outputs": [],
   "source": [
    "def euclideanDistances(punto, array_de_puntos):\n",
    "    results = []\n",
    "    for punto_del_array in array_de_puntos:\n",
    "        diferencia =  punto_del_array - punto\n",
    "        distancia = np.linalg.norm(diferencia)\n",
    "        results.append(distancia) \n",
    "    return np.array(results)\n"
   ]
  },
  {
   "cell_type": "code",
   "execution_count": 64,
   "id": "aaf1ff3f",
   "metadata": {},
   "outputs": [
    {
     "name": "stdout",
     "output_type": "stream",
     "text": [
      "Original:  41.0\n",
      "38.39957635549341\n"
     ]
    }
   ],
   "source": [
    "\n",
    "class Loess(object):\n",
    "\n",
    "    @staticmethod\n",
    "    def normalize_array(array):\n",
    "        min_val = np.min(array)\n",
    "        max_val = np.max(array)\n",
    "        return (array - min_val) / (max_val - min_val), min_val, max_val\n",
    "\n",
    "    \n",
    "    def normalize_matrix(self, matrix):\n",
    "        return np.array(list(map(self.normalize_array, matrix)), dtype=object).transpose()\n",
    "\n",
    "    def __init__(self, xx, yy, degree=1):\n",
    "        self.n_vars_xx, self.array_mins_xx, self.array_maxs_xx = self.normalize_matrix(xx)\n",
    "        self.n_yy, self.min_yy, self.max_yy = self.normalize_array(yy)\n",
    "        self.degree = degree\n",
    "\n",
    "        self.n_vars_xx = np.array(list(self.n_vars_xx)).transpose()\n",
    "        # print(self.n_vars_xx)\n",
    "        # print(self.array_mins_xx)\n",
    "        # print(self.array_maxs_xx)\n",
    "\n",
    "    @staticmethod\n",
    "    def get_min_idx_range(distances, window):\n",
    "        min_idx = np.argmin(distances)\n",
    "        n = len(distances)\n",
    "        if min_idx == 0:\n",
    "            return np.arange(0, window)\n",
    "            \n",
    "        if min_idx == n-1:\n",
    "            return np.arange(n - window, n)\n",
    "            \n",
    "        min_range = [min_idx]\n",
    "        while len(min_range) < window:\n",
    "            i0 = min_range[0]\n",
    "            i1 = min_range[-1]\n",
    "            if i0 == 0:\n",
    "                min_range.append(i1 + 1)\n",
    "            elif i1 == n-1:\n",
    "                min_range.insert(0, i0 - 1)\n",
    "            elif distances[i0-1] < distances[i1+1]:\n",
    "                min_range.insert(0, i0 - 1)\n",
    "            else:\n",
    "                min_range.append(i1 + 1)\n",
    "        \n",
    "        return np.array(min_range)\n",
    "    \n",
    "\n",
    "    @staticmethod\n",
    "    def get_weights(distances, min_range):\n",
    "        max_distance = np.max(distances[min_range])\n",
    "        weights = tricubic(distances[min_range] / max_distance)\n",
    "        return np.array(weights)\n",
    "\n",
    "    def normalize_x(self, array_of_values):\n",
    "        return (array_of_values - self.array_mins_xx) / (self.array_maxs_xx - self.array_mins_xx)\n",
    "\n",
    "    def denormalize_y(self, value):\n",
    "        return value * (self.max_yy - self.min_yy) + self.min_yy\n",
    "\n",
    "    def estimate(self, x, window, degree=1):\n",
    "        n_x = self.normalize_x(x)\n",
    "        distances = euclideanDistances(n_x, self.n_vars_xx)\n",
    "        min_idx_range = self.get_min_idx_range(distances, window )\n",
    "        weights = self.get_weights(distances, min_idx_range)\n",
    "        wm = np.multiply(np.eye(window), weights)\n",
    "        \n",
    "        poly = PolynomialFeatures(degree)\n",
    "        xp = n_x.reshape(1,-1)\n",
    "        xp = poly.fit_transform(xp)\n",
    "\n",
    "        xm = self.n_vars_xx[min_idx_range]\n",
    "        xm = poly.fit_transform(xm)\n",
    "\n",
    "        ym = np.array(list(self.n_yy[min_idx_range]))\n",
    "        # print(ym)\n",
    "        \n",
    "        xmt = np.transpose(xm)\n",
    "        xmt_wm = xmt @ wm\n",
    "        # print(xmt_wm)\n",
    "        \n",
    "        beta = np.linalg.pinv(xmt_wm @ xm) @ xmt_wm @ ym\n",
    "        # print(beta)\n",
    "    \n",
    "        y = (beta @ xp.transpose())\n",
    "\n",
    "        return self.denormalize_y(y)\n",
    "\n",
    "\n",
    "def main():\n",
    "    xx = np.genfromtxt(\"Data/variables.csv\", delimiter=\",\", skip_header=1, usecols=(2,3,4))\n",
    "    yy = np.genfromtxt(\"Data/ozono.csv\", delimiter=\",\", skip_header=1, usecols=(1))\n",
    "    \n",
    "    \n",
    "    xx = np.array(list(map(estandarizar, xx.transpose()))) #lo trasponemos una sola vez\n",
    "    \n",
    "    est_y = estandarizar(yy) \n",
    "    loess = Loess(xx, est_y)  \n",
    "    print(\"Original: \", yy[0])\n",
    "    predicciones = []\n",
    "    for x in xx.transpose():\n",
    "        y = loess.estimate(x, window=44, degree=1)\n",
    "        print(float(desestandarizar(yy, y)))\n",
    "        break\n",
    "        predicciones.append(float(desestandarizar(yy, y)))\n",
    "        \n",
    "    df_resultado = pd.DataFrame(predicciones, columns=[\"predicciones\"])\n",
    "    df_resultado.to_csv(\"./Resultados/predicciones_base.csv\")\n",
    "    \n",
    "\n",
    "if __name__ == \"__main__\":\n",
    "    start = time.time()\n",
    "\n",
    "    main()\n",
    "\n",
    "    end = time. time()\n",
    "    #print(end - start)\n",
    "    #print(end - start)"
   ]
  },
  {
   "cell_type": "code",
   "execution_count": 79,
   "id": "26475bb2",
   "metadata": {},
   "outputs": [],
   "source": [
    "def estimarLoess(variablesEntrada, useColsEntrada, variableSalida, archivoSalida, f, grado):\n",
    "    xx = np.genfromtxt(variablesEntrada, delimiter=\",\", skip_header=1, usecols=useColsEntrada)\n",
    "    yy = np.genfromtxt(variableSalida, delimiter=\",\", skip_header=1, usecols=(1))\n",
    "\n",
    "\n",
    "    num_variables = 1\n",
    "    if isinstance(useColsEntrada,int):\n",
    "        xx = np.array([xx])\n",
    "    else: \n",
    "        num_variables = len(useColsEntrada)\n",
    "    \n",
    "    xx = np.array(list(map(estandarizar, xx.transpose()))) #lo trasponemos una sola vez\n",
    "    \n",
    "    est_y = estandarizar(yy) \n",
    "    loess = Loess(xx, est_y) \n",
    "    q = int(np.floor(f*(xx.size/num_variables)))\n",
    "    predicciones = []\n",
    "    for x in xx.transpose():\n",
    "        y = loess.estimate(x, window=q, degree=grado)\n",
    "        predicciones.append(float(desestandarizar(yy, y)))\n",
    "        \n",
    "    df_resultado = pd.DataFrame(predicciones, columns=[\"predicciones\"])\n",
    "    df_resultado.to_csv(archivoSalida)"
   ]
  },
  {
   "cell_type": "code",
   "execution_count": 12,
   "id": "f2935e50",
   "metadata": {},
   "outputs": [],
   "source": [
    "variablesPath = \"Data/variables.csv\"\n",
    "ozonoPath = \"Data/ozono.csv\""
   ]
  },
  {
   "cell_type": "markdown",
   "id": "2dc1ac5c",
   "metadata": {},
   "source": [
    "# Primer experimento con f = .4 lineal"
   ]
  },
  {
   "cell_type": "code",
   "execution_count": 80,
   "id": "2298c97c",
   "metadata": {},
   "outputs": [
    {
     "name": "stderr",
     "output_type": "stream",
     "text": [
      "/tmp/ipykernel_58311/424402546.py:4: RuntimeWarning: invalid value encountered in true_divide\n",
      "  return (variable - esperanza)/var\n"
     ]
    },
    {
     "ename": "IndexError",
     "evalue": "index 1 is out of bounds for axis 0 with size 1",
     "output_type": "error",
     "traceback": [
      "\u001b[0;31m---------------------------------------------------------------------------\u001b[0m",
      "\u001b[0;31mIndexError\u001b[0m                                Traceback (most recent call last)",
      "\u001b[1;32m/home/lovi/Desktop/uni/metodos/Tp3-Metodos/Implementacion.ipynb Cell 13\u001b[0m in \u001b[0;36m<cell line: 14>\u001b[0;34m()\u001b[0m\n\u001b[1;32m     <a href='vscode-notebook-cell:/home/lovi/Desktop/uni/metodos/Tp3-Metodos/Implementacion.ipynb#ch0000012?line=11'>12</a>\u001b[0m residuales_abs_ozono\u001b[39m.\u001b[39mto_csv(residuales_abs_ozono_Path)\n\u001b[1;32m     <a href='vscode-notebook-cell:/home/lovi/Desktop/uni/metodos/Tp3-Metodos/Implementacion.ipynb#ch0000012?line=12'>13</a>\u001b[0m resultadosResidualesPunto66Path \u001b[39m=\u001b[39m \u001b[39m'\u001b[39m\u001b[39m./Resultados/f=.66-lineal-residuales.csv\u001b[39m\u001b[39m'\u001b[39m\n\u001b[0;32m---> <a href='vscode-notebook-cell:/home/lovi/Desktop/uni/metodos/Tp3-Metodos/Implementacion.ipynb#ch0000012?line=13'>14</a>\u001b[0m estimarLoess(residuales_abs_ozono_Path, (\u001b[39m1\u001b[39;49m), ozonoPath, resultadosResidualesPunto66Path, \u001b[39m2\u001b[39;49m\u001b[39m/\u001b[39;49m\u001b[39m3\u001b[39;49m, \u001b[39m1\u001b[39;49m)\n",
      "\u001b[1;32m/home/lovi/Desktop/uni/metodos/Tp3-Metodos/Implementacion.ipynb Cell 13\u001b[0m in \u001b[0;36mestimarLoess\u001b[0;34m(variablesEntrada, useColsEntrada, variableSalida, archivoSalida, f, grado)\u001b[0m\n\u001b[1;32m     <a href='vscode-notebook-cell:/home/lovi/Desktop/uni/metodos/Tp3-Metodos/Implementacion.ipynb#ch0000012?line=16'>17</a>\u001b[0m predicciones \u001b[39m=\u001b[39m []\n\u001b[1;32m     <a href='vscode-notebook-cell:/home/lovi/Desktop/uni/metodos/Tp3-Metodos/Implementacion.ipynb#ch0000012?line=17'>18</a>\u001b[0m \u001b[39mfor\u001b[39;00m x \u001b[39min\u001b[39;00m xx\u001b[39m.\u001b[39mtranspose():\n\u001b[0;32m---> <a href='vscode-notebook-cell:/home/lovi/Desktop/uni/metodos/Tp3-Metodos/Implementacion.ipynb#ch0000012?line=18'>19</a>\u001b[0m     y \u001b[39m=\u001b[39m loess\u001b[39m.\u001b[39;49mestimate(x, window\u001b[39m=\u001b[39;49mq, degree\u001b[39m=\u001b[39;49mgrado)\n\u001b[1;32m     <a href='vscode-notebook-cell:/home/lovi/Desktop/uni/metodos/Tp3-Metodos/Implementacion.ipynb#ch0000012?line=19'>20</a>\u001b[0m     predicciones\u001b[39m.\u001b[39mappend(\u001b[39mfloat\u001b[39m(desestandarizar(yy, y)))\n\u001b[1;32m     <a href='vscode-notebook-cell:/home/lovi/Desktop/uni/metodos/Tp3-Metodos/Implementacion.ipynb#ch0000012?line=21'>22</a>\u001b[0m df_resultado \u001b[39m=\u001b[39m pd\u001b[39m.\u001b[39mDataFrame(predicciones, columns\u001b[39m=\u001b[39m[\u001b[39m\"\u001b[39m\u001b[39mpredicciones\u001b[39m\u001b[39m\"\u001b[39m])\n",
      "\u001b[1;32m/home/lovi/Desktop/uni/metodos/Tp3-Metodos/Implementacion.ipynb Cell 13\u001b[0m in \u001b[0;36mLoess.estimate\u001b[0;34m(self, x, window, degree)\u001b[0m\n\u001b[1;32m     <a href='vscode-notebook-cell:/home/lovi/Desktop/uni/metodos/Tp3-Metodos/Implementacion.ipynb#ch0000012?line=62'>63</a>\u001b[0m distances \u001b[39m=\u001b[39m euclideanDistances(n_x, \u001b[39mself\u001b[39m\u001b[39m.\u001b[39mn_vars_xx)\n\u001b[1;32m     <a href='vscode-notebook-cell:/home/lovi/Desktop/uni/metodos/Tp3-Metodos/Implementacion.ipynb#ch0000012?line=63'>64</a>\u001b[0m min_idx_range \u001b[39m=\u001b[39m \u001b[39mself\u001b[39m\u001b[39m.\u001b[39mget_min_idx_range(distances, window )\n\u001b[0;32m---> <a href='vscode-notebook-cell:/home/lovi/Desktop/uni/metodos/Tp3-Metodos/Implementacion.ipynb#ch0000012?line=64'>65</a>\u001b[0m weights \u001b[39m=\u001b[39m \u001b[39mself\u001b[39;49m\u001b[39m.\u001b[39;49mget_weights(distances, min_idx_range)\n\u001b[1;32m     <a href='vscode-notebook-cell:/home/lovi/Desktop/uni/metodos/Tp3-Metodos/Implementacion.ipynb#ch0000012?line=65'>66</a>\u001b[0m wm \u001b[39m=\u001b[39m np\u001b[39m.\u001b[39mmultiply(np\u001b[39m.\u001b[39meye(window), weights)\n\u001b[1;32m     <a href='vscode-notebook-cell:/home/lovi/Desktop/uni/metodos/Tp3-Metodos/Implementacion.ipynb#ch0000012?line=67'>68</a>\u001b[0m poly \u001b[39m=\u001b[39m PolynomialFeatures(degree)\n",
      "\u001b[1;32m/home/lovi/Desktop/uni/metodos/Tp3-Metodos/Implementacion.ipynb Cell 13\u001b[0m in \u001b[0;36mLoess.get_weights\u001b[0;34m(distances, min_range)\u001b[0m\n\u001b[1;32m     <a href='vscode-notebook-cell:/home/lovi/Desktop/uni/metodos/Tp3-Metodos/Implementacion.ipynb#ch0000012?line=48'>49</a>\u001b[0m \u001b[39m@staticmethod\u001b[39m\n\u001b[1;32m     <a href='vscode-notebook-cell:/home/lovi/Desktop/uni/metodos/Tp3-Metodos/Implementacion.ipynb#ch0000012?line=49'>50</a>\u001b[0m \u001b[39mdef\u001b[39;00m \u001b[39mget_weights\u001b[39m(distances, min_range):\n\u001b[0;32m---> <a href='vscode-notebook-cell:/home/lovi/Desktop/uni/metodos/Tp3-Metodos/Implementacion.ipynb#ch0000012?line=50'>51</a>\u001b[0m     max_distance \u001b[39m=\u001b[39m np\u001b[39m.\u001b[39mmax(distances[min_range])\n\u001b[1;32m     <a href='vscode-notebook-cell:/home/lovi/Desktop/uni/metodos/Tp3-Metodos/Implementacion.ipynb#ch0000012?line=51'>52</a>\u001b[0m     weights \u001b[39m=\u001b[39m tricubic(distances[min_range] \u001b[39m/\u001b[39m max_distance)\n\u001b[1;32m     <a href='vscode-notebook-cell:/home/lovi/Desktop/uni/metodos/Tp3-Metodos/Implementacion.ipynb#ch0000012?line=52'>53</a>\u001b[0m     \u001b[39mreturn\u001b[39;00m np\u001b[39m.\u001b[39marray(weights)\n",
      "\u001b[0;31mIndexError\u001b[0m: index 1 is out of bounds for axis 0 with size 1"
     ]
    }
   ],
   "source": [
    "resultadosPunto4Path = './Resultados/f=.4-lineal-ozono.csv'\n",
    "estimarLoess(variablesPath, (2,3,4), ozonoPath, resultadosPunto4Path, .4, 1)\n",
    "\n",
    "ozono_estimado = np.genfromtxt(resultadosPunto4Path, delimiter=\",\", skip_header=1, usecols=(1))\n",
    "ozono_real = np.genfromtxt(ozonoPath, delimiter=\",\", skip_header=1, usecols=(1))\n",
    "\n",
    "diferencia_ozono =  ozono_real - ozono_estimado\n",
    "diferencia_abs_ozono = np.abs(diferencia_ozono)\n",
    "\n",
    "residuales_abs_ozono = pd.DataFrame({'residuales' : diferencia_abs_ozono})\n",
    "residuales_abs_ozono_Path = './Resultados/f=.4-lineal-residuales.csv'\n",
    "residuales_abs_ozono.to_csv(residuales_abs_ozono_Path)\n",
    "resultadosResidualesPunto66Path = './Resultados/f=.66-lineal-residuales.csv'\n",
    "estimarLoess(residuales_abs_ozono_Path, (1), ozonoPath, resultadosResidualesPunto66Path, 2/3, 1)"
   ]
  },
  {
   "cell_type": "code",
   "execution_count": 15,
   "id": "b6982c77",
   "metadata": {},
   "outputs": [],
   "source": [
    "import pandas as pd\n",
    "import seaborn as sns\n",
    "import matplotlib.pyplot as plt\n",
    "import statsmodels.api as sm"
   ]
  },
  {
   "cell_type": "code",
   "execution_count": 46,
   "id": "41ca278a",
   "metadata": {},
   "outputs": [
    {
     "data": {
      "image/png": "[encoded data removed]",
      "text/plain": [
       "<Figure size 432x288 with 1 Axes>"
      ]
     },
     "metadata": {
      "needs_background": "light"
     },
     "output_type": "display_data"
    }
   ],
   "source": [
    "diferencia_ozono_ordenada = diferencia_ozono\n",
    "diferencia_ozono_ordenada.sort()\n",
    "fig = sm.qqplot(diferencia_ozono_ordenada)\n",
    "plt.xlabel('Qunatiles Normales')\n",
    "plt.ylabel('Residuales')\n",
    "plt.savefig('./images/Residuales-contra-quantiles-f=punto4.svg')"
   ]
  },
  {
   "cell_type": "code",
   "execution_count": 68,
   "id": "205c5c4d",
   "metadata": {},
   "outputs": [
    {
     "data": {
      "image/png": "[encoded data removed]",
      "text/plain": [
       "<Figure size 432x288 with 1 Axes>"
      ]
     },
     "metadata": {
      "needs_background": "light"
     },
     "output_type": "display_data"
    }
   ],
   "source": [
    "\n",
    "fig = plt.plot(ozono_estimado, diferencia_abs_ozono, 'o')\n",
    "plt.xlabel('Ozono Estimado')\n",
    "plt.ylabel('Residuales')\n",
    "plt.savefig('./images/Residuales-contra-ozono-f=punto4.svg')"
   ]
  },
  {
   "cell_type": "code",
   "execution_count": null,
   "id": "1d62ee4c",
   "metadata": {},
   "outputs": [],
   "source": []
  },
  {
   "cell_type": "code",
   "execution_count": null,
   "id": "01a5e553",
   "metadata": {},
   "outputs": [],
   "source": [
    "df = pd.read_csv(\"dataset.csv\")\n",
    "def graficarDatosBrutos(xlabel, ylabel):\n",
    "    pl.clf()\n",
    "    pl.scatter(x=df[xlabel], y=df[ylabel])\n",
    "    pl.savefig(f\"./images/{ylabel}-en-funcion-de-{xlabel}.svg\")\n",
    "    pl.clf()\n",
    "    pl.scatter(x=df[ylabel], y=df[xlabel])\n",
    "    pl.savefig(f\"./images/{xlabel}-en-funcion-de-{ylabel}.svg\")"
   ]
  },
  {
   "cell_type": "code",
   "execution_count": null,
   "id": "92c5b4d4",
   "metadata": {},
   "outputs": [],
   "source": [
    "combinationsOfTwo = list(combinations(VARIABLES, 2))\n",
    "for par in combinationsOfTwo :\n",
    "    print(par[0], par[1])\n",
    "    graficarDatosBrutos(par[0], par[1])\n",
    "    \n"
   ]
  },
  {
   "cell_type": "code",
   "execution_count": null,
   "id": "35ce179a",
   "metadata": {},
   "outputs": [],
   "source": [
    "graficarDatosBrutos(\"radiation\", \"temperature\")"
   ]
  },
  {
   "cell_type": "code",
   "execution_count": null,
   "id": "c486d1a3",
   "metadata": {},
   "outputs": [
    {
     "data": {
      "text/html": [
       "<div>\n",
       "<style scoped>\n",
       "    .dataframe tbody tr th:only-of-type {\n",
       "        vertical-align: middle;\n",
       "    }\n",
       "\n",
       "    .dataframe tbody tr th {\n",
       "        vertical-align: top;\n",
       "    }\n",
       "\n",
       "    .dataframe thead th {\n",
       "        text-align: right;\n",
       "    }\n",
       "</style>\n",
       "<table border=\"1\" class=\"dataframe\">\n",
       "  <thead>\n",
       "    <tr style=\"text-align: right;\">\n",
       "      <th></th>\n",
       "      <th>Unnamed: 0</th>\n",
       "      <th>predicciones</th>\n",
       "    </tr>\n",
       "  </thead>\n",
       "  <tbody>\n",
       "    <tr>\n",
       "      <th>0</th>\n",
       "      <td>0</td>\n",
       "      <td>25.934539</td>\n",
       "    </tr>\n",
       "    <tr>\n",
       "      <th>1</th>\n",
       "      <td>1</td>\n",
       "      <td>20.499023</td>\n",
       "    </tr>\n",
       "    <tr>\n",
       "      <th>2</th>\n",
       "      <td>2</td>\n",
       "      <td>22.484853</td>\n",
       "    </tr>\n",
       "    <tr>\n",
       "      <th>3</th>\n",
       "      <td>3</td>\n",
       "      <td>28.428890</td>\n",
       "    </tr>\n",
       "    <tr>\n",
       "      <th>4</th>\n",
       "      <td>4</td>\n",
       "      <td>31.619311</td>\n",
       "    </tr>\n",
       "    <tr>\n",
       "      <th>...</th>\n",
       "      <td>...</td>\n",
       "      <td>...</td>\n",
       "    </tr>\n",
       "    <tr>\n",
       "      <th>106</th>\n",
       "      <td>106</td>\n",
       "      <td>18.904616</td>\n",
       "    </tr>\n",
       "    <tr>\n",
       "      <th>107</th>\n",
       "      <td>107</td>\n",
       "      <td>32.009909</td>\n",
       "    </tr>\n",
       "    <tr>\n",
       "      <th>108</th>\n",
       "      <td>108</td>\n",
       "      <td>24.049632</td>\n",
       "    </tr>\n",
       "    <tr>\n",
       "      <th>109</th>\n",
       "      <td>109</td>\n",
       "      <td>26.286799</td>\n",
       "    </tr>\n",
       "    <tr>\n",
       "      <th>110</th>\n",
       "      <td>110</td>\n",
       "      <td>27.245129</td>\n",
       "    </tr>\n",
       "  </tbody>\n",
       "</table>\n",
       "<p>111 rows × 2 columns</p>\n",
       "</div>"
      ],
      "text/plain": [
       "     Unnamed: 0  predicciones\n",
       "0             0     25.934539\n",
       "1             1     20.499023\n",
       "2             2     22.484853\n",
       "3             3     28.428890\n",
       "4             4     31.619311\n",
       "..          ...           ...\n",
       "106         106     18.904616\n",
       "107         107     32.009909\n",
       "108         108     24.049632\n",
       "109         109     26.286799\n",
       "110         110     27.245129\n",
       "\n",
       "[111 rows x 2 columns]"
      ]
     },
     "execution_count": 36,
     "metadata": {},
     "output_type": "execute_result"
    },
    {
     "data": {
      "image/png": "[encoded data removed]",
      "text/plain": [
       "<Figure size 432x288 with 1 Axes>"
      ]
     },
     "metadata": {
      "needs_background": "light"
     },
     "output_type": "display_data"
    }
   ],
   "source": [
    "\n",
    "df_predicciones = pd.read_csv(\"./Resultados/predicciones_base.csv\")\n",
    "df_independientes = pd.read_csv(\"dataset.csv\")\n",
    "\n",
    "\n",
    "pl.clf()\n",
    "pl.plot(df_independientes[\"X\"], df_predicciones[\"predicciones\"], color=\"red\")\n",
    "pl.plot(df_independientes[\"X\"], df_independientes[\"ozone\"])\n",
    "df_predicciones"
   ]
  },
  {
   "cell_type": "markdown",
   "id": "c7041142",
   "metadata": {},
   "source": [
    "Para hacer:\n",
    "    Lineal:\n",
    "    * con f = .4, g(xi) contra g(xi) - yi\n",
    "    * mismo anterior pero contra |g(xi) -yi| con una curva de g(g(xi)) con f=2/3\n",
    "    *mismo pero estimado contra variables con curva de g(g(xi)) con f=2/3\n",
    "\n",
    "    Cuadratica:\n",
    "    *datos: con f=.8, la sqrt(g(xi),3)\n",
    "    *"
   ]
  },
  {
   "cell_type": "code",
   "execution_count": null,
   "id": "58957e94",
   "metadata": {},
   "outputs": [],
   "source": []
  },
  {
   "cell_type": "markdown",
   "id": "5b722036",
   "metadata": {},
   "source": []
  }
 ],
 "metadata": {
  "kernelspec": {
   "display_name": "Python 3.8.10 ('metodosTP3')",
   "language": "python",
   "name": "python3"
  },
  "language_info": {
   "codemirror_mode": {
    "name": "ipython",
    "version": 3
   },
   "file_extension": ".py",
   "mimetype": "text/x-python",
   "name": "python",
   "nbconvert_exporter": "python",
   "pygments_lexer": "ipython3",
   "version": "3.8.10"
  },
  "vscode": {
   "interpreter": {
    "hash": "6d2b9dcf3cc09f155dc25239e20d37b107e877b623aec4afa82a28ac9f5494b3"
   }
  }
 },
 "nbformat": 4,
 "nbformat_minor": 5
}
