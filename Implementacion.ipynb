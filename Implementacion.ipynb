{
 "cells": [
  {
   "cell_type": "code",
   "execution_count": 1,
   "id": "295ac25c",
   "metadata": {},
   "outputs": [],
   "source": [
    "import os\n",
    "import numpy as np\n",
    "from os import path\n",
    "import pandas as pd\n",
    "from itertools import combinations\n",
    "import pylab as pl\n",
    "import time \n",
    "from sklearn.preprocessing import PolynomialFeatures\n"
   ]
  },
  {
   "cell_type": "markdown",
   "id": "72d56ee3",
   "metadata": {},
   "source": [
    "#Funcion de distancia 1/4"
   ]
  },
  {
   "cell_type": "code",
   "execution_count": 2,
   "id": "32d5cdce",
   "metadata": {},
   "outputs": [],
   "source": [
    "VARIABLES = [\n",
    "    \"ozone\",\n",
    "    \"radiation\",\n",
    "    \"wind\",\n",
    "    \"temperature\"\n",
    "]"
   ]
  },
  {
   "cell_type": "code",
   "execution_count": 3,
   "id": "48ae92c5",
   "metadata": {},
   "outputs": [],
   "source": [
    "paths = [\n",
    "    \"Resultados\",\n",
    "    \"Data\",\n",
    "    \"images\"\n",
    "]\n",
    "def crearPaths(paths=paths):\n",
    "    for p in paths:    \n",
    "        if not path.exists(f\"{os.getcwd()}/{p}\"):\n",
    "            os.mkdir(f\"{os.getcwd()}/{p}\")\n",
    "crearPaths()\n",
    "\n",
    "\n"
   ]
  },
  {
   "cell_type": "code",
   "execution_count": 4,
   "id": "47a5dcf4",
   "metadata": {},
   "outputs": [
    {
     "data": {
      "text/html": [
       "<div>\n",
       "<style scoped>\n",
       "    .dataframe tbody tr th:only-of-type {\n",
       "        vertical-align: middle;\n",
       "    }\n",
       "\n",
       "    .dataframe tbody tr th {\n",
       "        vertical-align: top;\n",
       "    }\n",
       "\n",
       "    .dataframe thead th {\n",
       "        text-align: right;\n",
       "    }\n",
       "</style>\n",
       "<table border=\"1\" class=\"dataframe\">\n",
       "  <thead>\n",
       "    <tr style=\"text-align: right;\">\n",
       "      <th></th>\n",
       "      <th>X</th>\n",
       "      <th>radiation</th>\n",
       "      <th>temperature</th>\n",
       "      <th>wind</th>\n",
       "    </tr>\n",
       "    <tr>\n",
       "      <th>index</th>\n",
       "      <th></th>\n",
       "      <th></th>\n",
       "      <th></th>\n",
       "      <th></th>\n",
       "    </tr>\n",
       "  </thead>\n",
       "  <tbody>\n",
       "    <tr>\n",
       "      <th>1</th>\n",
       "      <td>1</td>\n",
       "      <td>190</td>\n",
       "      <td>67</td>\n",
       "      <td>7.4</td>\n",
       "    </tr>\n",
       "    <tr>\n",
       "      <th>2</th>\n",
       "      <td>2</td>\n",
       "      <td>118</td>\n",
       "      <td>72</td>\n",
       "      <td>8.0</td>\n",
       "    </tr>\n",
       "    <tr>\n",
       "      <th>3</th>\n",
       "      <td>3</td>\n",
       "      <td>149</td>\n",
       "      <td>74</td>\n",
       "      <td>12.6</td>\n",
       "    </tr>\n",
       "    <tr>\n",
       "      <th>4</th>\n",
       "      <td>4</td>\n",
       "      <td>313</td>\n",
       "      <td>62</td>\n",
       "      <td>11.5</td>\n",
       "    </tr>\n",
       "    <tr>\n",
       "      <th>5</th>\n",
       "      <td>5</td>\n",
       "      <td>299</td>\n",
       "      <td>65</td>\n",
       "      <td>8.6</td>\n",
       "    </tr>\n",
       "  </tbody>\n",
       "</table>\n",
       "</div>"
      ],
      "text/plain": [
       "       X  radiation  temperature  wind\n",
       "index                                 \n",
       "1      1        190           67   7.4\n",
       "2      2        118           72   8.0\n",
       "3      3        149           74  12.6\n",
       "4      4        313           62  11.5\n",
       "5      5        299           65   8.6"
      ]
     },
     "execution_count": 4,
     "metadata": {},
     "output_type": "execute_result"
    }
   ],
   "source": [
    "#Separo el dataset en los x y\n",
    "\n",
    "df_data = pd.read_csv(\"./dataset.csv\", index_col=\"index\")\n",
    "ozono = df_data[\"ozone\"]\n",
    "df_vars = df_data.drop(\"ozone\", axis=1)\n",
    "\n",
    "df_vars.to_csv(\"Data/variables.csv\")\n",
    "ozono.to_csv(\"Data/ozono.csv\")\n",
    "df_vars.head()"
   ]
  },
  {
   "cell_type": "code",
   "execution_count": 5,
   "id": "69a7eb0e",
   "metadata": {},
   "outputs": [],
   "source": [
    "#le aplica la tricubica a un array\n",
    "def tricubic(x):\n",
    "    y = np.zeros_like(x)\n",
    "    idx = (x >= -1) & (x <= 1)\n",
    "    y[idx] = np.power(1.0 - np.power(np.abs(x[idx]), 3), 3)\n",
    "    return y"
   ]
  },
  {
   "cell_type": "code",
   "execution_count": 6,
   "id": "82ba646a",
   "metadata": {},
   "outputs": [],
   "source": [
    "def estandarizar(variable):\n",
    "\tesperanza = np.mean(variable)\n",
    "\tvar = np.var(variable)\n",
    "\treturn (variable - esperanza)/var\n",
    "\n",
    "def desestandarizar(variable, valor):\n",
    "\tesperanza = np.mean(variable)\n",
    "\tvar = np.var(variable)\n",
    "\treturn valor*var + esperanza\n",
    "\n"
   ]
  },
  {
   "cell_type": "code",
   "execution_count": 7,
   "id": "fe155ffb",
   "metadata": {},
   "outputs": [],
   "source": [
    "def euclideanDistances(punto, array_de_puntos):\n",
    "    results = []\n",
    "    for punto_del_array in array_de_puntos:\n",
    "        diferencia =  punto_del_array - punto\n",
    "        distancia = np.linalg.norm(diferencia)\n",
    "        results.append(distancia) \n",
    "    return np.array(results)\n"
   ]
  },
  {
   "cell_type": "code",
   "execution_count": 8,
   "id": "aaf1ff3f",
   "metadata": {},
   "outputs": [
    {
     "name": "stdout",
     "output_type": "stream",
     "text": [
      "Original:  41.0\n",
      "38.39957635549341\n"
     ]
    }
   ],
   "source": [
    "\n",
    "class Loess(object):\n",
    "\n",
    "    @staticmethod\n",
    "    def normalize_array(array):\n",
    "        min_val = np.min(array)\n",
    "        max_val = np.max(array)\n",
    "        return (array - min_val) / (max_val - min_val), min_val, max_val\n",
    "\n",
    "    \n",
    "    def normalize_matrix(self, matrix):\n",
    "        return np.array(list(map(self.normalize_array, matrix)), dtype=object).transpose()\n",
    "\n",
    "    def __init__(self, xx, yy, degree=1):\n",
    "        self.n_vars_xx, self.array_mins_xx, self.array_maxs_xx = self.normalize_matrix(xx)\n",
    "        self.n_yy, self.min_yy, self.max_yy = self.normalize_array(yy)\n",
    "        self.degree = degree\n",
    "\n",
    "        self.n_vars_xx = np.array(list(self.n_vars_xx)).transpose()\n",
    "        # print(self.n_vars_xx)\n",
    "        # print(self.array_mins_xx)\n",
    "        # print(self.array_maxs_xx)\n",
    "\n",
    "    @staticmethod\n",
    "    def get_min_idx_range(distances, window):\n",
    "        min_idx = np.argmin(distances)\n",
    "        n = len(distances)\n",
    "        if min_idx == 0:\n",
    "            return np.arange(0, window)\n",
    "            \n",
    "        if min_idx == n-1:\n",
    "            return np.arange(n - window, n)\n",
    "            \n",
    "        min_range = [min_idx]\n",
    "        while len(min_range) < window:\n",
    "            i0 = min_range[0]\n",
    "            i1 = min_range[-1]\n",
    "            if i0 == 0:\n",
    "                min_range.append(i1 + 1)\n",
    "            elif i1 == n-1:\n",
    "                min_range.insert(0, i0 - 1)\n",
    "            elif distances[i0-1] < distances[i1+1]:\n",
    "                min_range.insert(0, i0 - 1)\n",
    "            else:\n",
    "                min_range.append(i1 + 1)\n",
    "        \n",
    "        return np.array(min_range)\n",
    "    \n",
    "\n",
    "    @staticmethod\n",
    "    def get_weights(distances, min_range):\n",
    "        max_distance = np.max(distances[min_range])\n",
    "        weights = tricubic(distances[min_range] / max_distance)\n",
    "        return np.array(weights)\n",
    "\n",
    "    def normalize_x(self, array_of_values):\n",
    "        return (array_of_values - self.array_mins_xx) / (self.array_maxs_xx - self.array_mins_xx)\n",
    "\n",
    "    def denormalize_y(self, value):\n",
    "        return value * (self.max_yy - self.min_yy) + self.min_yy\n",
    "\n",
    "    def estimate(self, x, window, degree=1):\n",
    "        n_x = self.normalize_x(x)\n",
    "        distances = euclideanDistances(n_x, self.n_vars_xx)\n",
    "        min_idx_range = self.get_min_idx_range(distances, window )\n",
    "        weights = self.get_weights(distances, min_idx_range)\n",
    "        wm = np.multiply(np.eye(window), weights)\n",
    "        \n",
    "        poly = PolynomialFeatures(degree)\n",
    "        xp = n_x.reshape(1,-1)\n",
    "        xp = poly.fit_transform(xp)\n",
    "\n",
    "        xm = self.n_vars_xx[min_idx_range]\n",
    "        xm = poly.fit_transform(xm)\n",
    "\n",
    "        ym = np.array(list(self.n_yy[min_idx_range]))\n",
    "        # print(ym)\n",
    "        \n",
    "        xmt = np.transpose(xm)\n",
    "        xmt_wm = xmt @ wm\n",
    "        # print(xmt_wm)\n",
    "        \n",
    "        beta = np.linalg.pinv(xmt_wm @ xm) @ xmt_wm @ ym\n",
    "        # print(beta)\n",
    "    \n",
    "        y = (beta @ xp.transpose())\n",
    "\n",
    "        return self.denormalize_y(y)\n",
    "\n",
    "\n",
    "def main():\n",
    "    xx = np.genfromtxt(\"Data/variables.csv\", delimiter=\",\", skip_header=1, usecols=(2,3,4))\n",
    "    yy = np.genfromtxt(\"Data/ozono.csv\", delimiter=\",\", skip_header=1, usecols=(1))\n",
    "    \n",
    "    \n",
    "    xx = np.array(list(map(estandarizar, xx.transpose()))) #lo trasponemos una sola vez\n",
    "    \n",
    "    est_y = estandarizar(yy) \n",
    "    loess = Loess(xx, est_y)  \n",
    "    print(\"Original: \", yy[0])\n",
    "    predicciones = []\n",
    "    for x in xx.transpose():\n",
    "        y = loess.estimate(x, window=44, degree=1)\n",
    "        print(float(desestandarizar(yy, y)))\n",
    "        break\n",
    "        predicciones.append(float(desestandarizar(yy, y)))\n",
    "        \n",
    "    df_resultado = pd.DataFrame(predicciones, columns=[\"predicciones\"])\n",
    "    df_resultado.to_csv(\"./Resultados/predicciones_base.csv\")\n",
    "    \n",
    "\n",
    "if __name__ == \"__main__\":\n",
    "    start = time.time()\n",
    "\n",
    "    main()\n",
    "\n",
    "    end = time. time()\n",
    "    #print(end - start)\n",
    "    #print(end - start)"
   ]
  },
  {
   "cell_type": "code",
   "execution_count": 9,
   "id": "26475bb2",
   "metadata": {},
   "outputs": [],
   "source": [
    "def estimarLoess(variablesEntrada, useColsEntrada, variableSalida, archivoSalida, f, grado, estandarizar_y=True):\n",
    "    xx = np.genfromtxt(variablesEntrada, delimiter=\",\", skip_header=1, usecols=useColsEntrada)\n",
    "    yy = np.genfromtxt(variableSalida, delimiter=\",\", skip_header=1, usecols=1)\n",
    "\n",
    "\n",
    "    num_variables = 1\n",
    "    if isinstance(useColsEntrada,int):\n",
    "        xx = np.array([xx])\n",
    "        xx = np.array(list(map(estandarizar, xx)))\n",
    "    else: \n",
    "        xx = np.array(list(map(estandarizar, xx.transpose())))\n",
    "        num_variables = len(useColsEntrada)\n",
    "    \n",
    "    est_y = yy\n",
    "    if estandarizar_y :\n",
    "        est_y = estandarizar(yy) \n",
    "    \n",
    "    loess = Loess(xx, est_y) \n",
    "    q = int(np.round(f*(xx.size/num_variables)))\n",
    "    predicciones = []\n",
    "    \n",
    "    for x in xx.transpose():\n",
    "        y = loess.estimate(x, window=q, degree=grado)\n",
    "        des_est_y = y\n",
    "        if estandarizar_y :\n",
    "            des_est_y = float(desestandarizar(yy, y))\n",
    "        predicciones.append(des_est_y)\n",
    "                \n",
    "    df_resultado = pd.DataFrame(predicciones, columns=[\"predicciones\"])\n",
    "    df_resultado.to_csv(archivoSalida)"
   ]
  },
  {
   "cell_type": "code",
   "execution_count": 10,
   "id": "f2935e50",
   "metadata": {},
   "outputs": [],
   "source": [
    "variablesPath = \"Data/variables.csv\"\n",
    "ozonoPath = \"Data/ozono.csv\""
   ]
  },
  {
   "cell_type": "code",
   "execution_count": 11,
   "id": "b6982c77",
   "metadata": {},
   "outputs": [],
   "source": [
    "import pandas as pd\n",
    "import seaborn as sns\n",
    "import matplotlib.pyplot as plt\n",
    "import statsmodels.api as sm"
   ]
  },
  {
   "cell_type": "markdown",
   "id": "2dc1ac5c",
   "metadata": {},
   "source": [
    "# Primer experimento con f = .4 lineal"
   ]
  },
  {
   "cell_type": "code",
   "execution_count": 12,
   "id": "d0ef344f",
   "metadata": {},
   "outputs": [],
   "source": [
    "def estimarConVariableSingular(variable_Path, aEstimar_Path, estimados_Path):\n",
    "    \n",
    "    estimarLoess(variable_Path, (1), aEstimar_Path, estimados_Path, 2/3, 1, estandarizar_y=False)\n",
    "\n",
    "    variable = np.genfromtxt(variable_Path, delimiter=\",\", skip_header=1, usecols=(1))\n",
    "    estimados = np.genfromtxt(estimados_Path, delimiter=\",\", skip_header=1, usecols=(1))\n",
    "\n",
    "    #Ordenamos los residuales estimados a partir del ozono estimado\n",
    "    variable_contra_estimados = pd.DataFrame({'Variable' : variable, 'Estimados' : estimados})\n",
    "    variable_contra_estimados = variable_contra_estimados.sort_values(by='Variable')\n",
    "    return variable_contra_estimados"
   ]
  },
  {
   "cell_type": "code",
   "execution_count": 13,
   "id": "2298c97c",
   "metadata": {},
   "outputs": [],
   "source": [
    "#Estimamos el ozono con f = .4\n",
    "resultadosPunto4Path = './Resultados/f=.4-lineal-ozono.csv'\n",
    "estimarLoess(variablesPath, (2,3,4), ozonoPath, resultadosPunto4Path, .4, 1)\n",
    "\n",
    "ozono_estimado = np.genfromtxt(resultadosPunto4Path, delimiter=\",\", skip_header=1, usecols=(1))\n",
    "ozono_real = np.genfromtxt(ozonoPath, delimiter=\",\", skip_header=1, usecols=(1))\n",
    "\n",
    "#Calculamos los residuales entre ozono real y estimado\n",
    "diferencia_ozono =  ozono_real - ozono_estimado\n",
    "diferencia_abs_ozono = np.abs(diferencia_ozono)"
   ]
  },
  {
   "cell_type": "code",
   "execution_count": 14,
   "id": "41ca278a",
   "metadata": {},
   "outputs": [
    {
     "data": {
      "image/png": "[encoded data removed]",
      "text/plain": [
       "<Figure size 432x288 with 1 Axes>"
      ]
     },
     "metadata": {
      "needs_background": "light"
     },
     "output_type": "display_data"
    }
   ],
   "source": [
    "diferencia_ozono_ordenada = diferencia_ozono\n",
    "diferencia_ozono_ordenada.sort()\n",
    "fig = sm.qqplot(diferencia_ozono_ordenada)\n",
    "plt.xlabel('Qunatiles Normales')\n",
    "plt.ylabel('Residuales')\n",
    "plt.savefig('./images/Residuales-contra-quantiles-f=punto4.svg')"
   ]
  },
  {
   "cell_type": "code",
   "execution_count": 15,
   "id": "7af1a7d8",
   "metadata": {},
   "outputs": [],
   "source": [
    "#estimamos los residuales en base al ozono estimado\n",
    "residuales_df = pd.DataFrame({'residuales' : diferencia_abs_ozono})\n",
    "residuales_path = './Resultados/f=.4-lineal-residuales.csv'\n",
    "residuales_df.to_csv(residuales_path)\n",
    "\n",
    "residuales_contra_ozono_estimado = estimarConVariableSingular(resultadosPunto4Path, residuales_path, './Resultados/f=.66-lineal-ResidualesxOzono.csv')"
   ]
  },
  {
   "cell_type": "code",
   "execution_count": 16,
   "id": "205c5c4d",
   "metadata": {},
   "outputs": [
    {
     "data": {
      "image/png": "[encoded data removed]",
      "text/plain": [
       "<Figure size 432x288 with 1 Axes>"
      ]
     },
     "metadata": {
      "needs_background": "light"
     },
     "output_type": "display_data"
    }
   ],
   "source": [
    "\n",
    "fig = plt.plot(ozono_estimado, diferencia_abs_ozono, 'o')\n",
    "plt.plot(residuales_contra_ozono_estimado.Variable, residuales_contra_ozono_estimado.Estimados)\n",
    "plt.xlabel('Ozono Estimado')\n",
    "plt.ylabel('Residuales Absolutos')\n",
    "plt.savefig('./images/Residuales-contra-ozono-f=punto4.svg')"
   ]
  },
  {
   "cell_type": "code",
   "execution_count": 17,
   "id": "1d62ee4c",
   "metadata": {},
   "outputs": [],
   "source": [
    "residuales_noAbs_df = pd.DataFrame({'residuales' : diferencia_ozono})\n",
    "residuales_noAbs_path = './Resultados/f=.4-lineal-residuales_noAbs.csv'\n",
    "residuales_noAbs_df.to_csv(residuales_noAbs_path)\n",
    "\n",
    "df_radiacion = df_vars.drop('temperature', axis=1).drop('wind', axis=1).drop('X', axis=1).reset_index(drop=True)\n",
    "radiacion_path = './Data/radiacion.csv'\n",
    "df_radiacion.to_csv(radiacion_path)\n",
    "\n",
    "residuales_contra_radiacion = estimarConVariableSingular(radiacion_path, residuales_path, './Resultados/f=.66-lineal-ResidualesxRadiacion.csv')\n",
    "\n",
    "df_temperatura = df_vars.drop('radiation', axis=1).drop('wind', axis=1).drop('X', axis=1).reset_index(drop=True)\n",
    "temperatura_path = './Data/temperatura.csv'\n",
    "df_temperatura.to_csv(temperatura_path)\n",
    "\n",
    "residuales_contra_temperatura = estimarConVariableSingular(temperatura_path, residuales_path, './Resultados/f=.66-lineal-ResidualesxTemperatura.csv')\n",
    "\n",
    "df_viento = df_vars.drop('temperature', axis=1).drop('radiation', axis=1).drop('X', axis=1).reset_index(drop=True)\n",
    "viento_path = './Data/viento.csv'\n",
    "df_viento.to_csv(viento_path)\n",
    "\n",
    "residuales_contra_viento = estimarConVariableSingular(viento_path, residuales_path, './Resultados/f=.66-lineal-ResidualesxViento.csv')"
   ]
  },
  {
   "cell_type": "code",
   "execution_count": 18,
   "id": "20bf30f8",
   "metadata": {},
   "outputs": [
    {
     "data": {
      "image/png": "[encoded data removed]",
      "text/plain": [
       "<Figure size 432x288 with 1 Axes>"
      ]
     },
     "metadata": {
      "needs_background": "light"
     },
     "output_type": "display_data"
    }
   ],
   "source": [
    "fig = plt.plot(df_radiacion.radiation, diferencia_ozono, 'o')\n",
    "plt.plot(residuales_contra_radiacion.Variable, residuales_contra_radiacion.Estimados)\n",
    "plt.xlabel('Radiación')\n",
    "plt.ylabel('Residuales')\n",
    "plt.savefig('./images/Residuales-contra-radiacion-f=punto4.svg')"
   ]
  },
  {
   "cell_type": "code",
   "execution_count": 19,
   "id": "3420ba3f",
   "metadata": {},
   "outputs": [
    {
     "data": {
      "image/png": "[encoded data removed]",
      "text/plain": [
       "<Figure size 432x288 with 1 Axes>"
      ]
     },
     "metadata": {
      "needs_background": "light"
     },
     "output_type": "display_data"
    }
   ],
   "source": [
    "fig = plt.plot(df_temperatura.temperature, diferencia_ozono, 'o')\n",
    "plt.plot(residuales_contra_temperatura.Variable, residuales_contra_temperatura.Estimados)\n",
    "plt.xlabel('Temperatura')\n",
    "plt.ylabel('Residuales')\n",
    "plt.savefig('./images/Residuales-contra-temperatura-f=punto4.svg')"
   ]
  },
  {
   "cell_type": "code",
   "execution_count": 20,
   "id": "0db1f6f1",
   "metadata": {},
   "outputs": [
    {
     "data": {
      "image/png": "[encoded data removed]",
      "text/plain": [
       "<Figure size 432x288 with 1 Axes>"
      ]
     },
     "metadata": {
      "needs_background": "light"
     },
     "output_type": "display_data"
    }
   ],
   "source": [
    "fig = plt.plot(df_viento.wind, diferencia_ozono, 'o')\n",
    "plt.plot(residuales_contra_viento.Variable, residuales_contra_viento.Estimados)\n",
    "plt.xlabel('Viento')\n",
    "plt.ylabel('Residuales')\n",
    "plt.savefig('./images/Residuales-contra-viento-f=punto4.svg')"
   ]
  },
  {
   "cell_type": "markdown",
   "id": "a78cb3ad",
   "metadata": {},
   "source": [
    "# Segunda parte de la experimentacion: \n",
    "estimar la raiz cúbica del ozono con valores fijos para dos variables, con f=.8 localmente cuadratico"
   ]
  },
  {
   "cell_type": "code",
   "execution_count": 66,
   "id": "1474038f",
   "metadata": {},
   "outputs": [],
   "source": [
    "def estimarLoessOzono(variablesEntrada, variableAEstimar, variablesParaEstimar):\n",
    "    xx = variablesEntrada\n",
    "    yy = variableAEstimar\n",
    "\n",
    "\n",
    "    xx = np.array(list(map(estandarizar, xx.transpose())))\n",
    "    est_y = estandarizar(yy) \n",
    "    \n",
    "    \n",
    "\n",
    "    loess = Loess(xx, est_y) \n",
    "    q = int(np.round(.8*(xx.size/3)))\n",
    "    predicciones = []\n",
    "\n",
    "    for i in range(0,3):\n",
    "        ps = []\n",
    "        for j in range(0,3):\n",
    "            pss = []\n",
    "            for x in variablesParaEstimar[i][j]:\n",
    "                y = loess.estimate(x, window=q, degree=2)\n",
    "                des_est_y = float(desestandarizar(yy, y))\n",
    "                predicciones.append(des_est_y)\n",
    "            ps.append(np.array(pss))\n",
    "        predicciones.append(np.array(ps))\n",
    "                \n",
    "    return np.array(predicciones)"
   ]
  },
  {
   "cell_type": "code",
   "execution_count": 67,
   "id": "6a374b11",
   "metadata": {},
   "outputs": [],
   "source": [
    "valores_fijos_viento = np.array([5,10,15])\n",
    "valores_fijos_radiacion = np.array([50,170,290])\n",
    "valores_fijos_temperatura = np.array([62,76,90])\n",
    "\n",
    "\n",
    "raiz_cubica_ozono = np.cbrt(ozono_real)\n",
    "variables_reales = np.genfromtxt(variablesPath, delimiter=\",\", skip_header=1, usecols=(2,3,4))\n",
    "\n",
    "variables_viento = []\n",
    "for rad in valores_fijos_radiacion :\n",
    "    ls = []\n",
    "    for temp in valores_fijos_temperatura:\n",
    "        lls = []\n",
    "        for viento in range(1,21):\n",
    "            lls.append(np.array([rad,temp,viento]))\n",
    "        \n",
    "        ls.append( np.array(lls) ) \n",
    "\n",
    "    variables_viento.append(np.array(ls))\n",
    "variables_viento = np.array(variables_viento)\n",
    "\n",
    "variables_temperatura = []\n",
    "for rad in valores_fijos_radiacion :\n",
    "    ls = []\n",
    "    for viento in valores_fijos_viento:\n",
    "        lls = []\n",
    "        for temp in range(60, 101, 2):\n",
    "            lls.append(np.array([rad,temp,viento]))\n",
    "        \n",
    "        ls.append( np.array(lls) ) \n",
    "\n",
    "    variables_temperatura.append(np.array(ls))\n",
    "variables_temperatura = np.array(variables_temperatura)\n",
    "\n",
    "variables_radiacion = []\n",
    "for temp in valores_fijos_temperatura:\n",
    "    ls = []\n",
    "    for viento in valores_fijos_viento:\n",
    "        lls = []\n",
    "        for rad in range(1, 361, 18) :\n",
    "            lls.append(np.array([rad,temp,viento]))\n",
    "        \n",
    "        ls.append( np.array(lls) ) \n",
    "\n",
    "    variables_radiacion.append(np.array(ls))\n",
    "variables_radiacion = np.array(variables_radiacion)\n"
   ]
  },
  {
   "cell_type": "code",
   "execution_count": 68,
   "id": "d0efb375",
   "metadata": {},
   "outputs": [
    {
     "name": "stderr",
     "output_type": "stream",
     "text": [
      "/tmp/ipykernel_4901/10732848.py:26: VisibleDeprecationWarning: Creating an ndarray from ragged nested sequences (which is a list-or-tuple of lists-or-tuples-or ndarrays with different lengths or shapes) is deprecated. If you meant to do this, you must specify 'dtype=object' when creating the ndarray.\n",
      "  return np.array(predicciones)\n",
      "/tmp/ipykernel_4901/10732848.py:26: VisibleDeprecationWarning: Creating an ndarray from ragged nested sequences (which is a list-or-tuple of lists-or-tuples-or ndarrays with different lengths or shapes) is deprecated. If you meant to do this, you must specify 'dtype=object' when creating the ndarray.\n",
      "  return np.array(predicciones)\n",
      "/tmp/ipykernel_4901/10732848.py:26: VisibleDeprecationWarning: Creating an ndarray from ragged nested sequences (which is a list-or-tuple of lists-or-tuples-or ndarrays with different lengths or shapes) is deprecated. If you meant to do this, you must specify 'dtype=object' when creating the ndarray.\n",
      "  return np.array(predicciones)\n"
     ]
    }
   ],
   "source": [
    "estimacionOzono_viento = estimarLoessOzono(variables_reales, raiz_cubica_ozono, variables_viento)\n",
    "estimacionOzono_radiacion = estimarLoessOzono(variables_reales, raiz_cubica_ozono, variables_radiacion)\n",
    "estimacionOzono_temperatura = estimarLoessOzono(variables_reales, raiz_cubica_ozono, variables_viento)"
   ]
  },
  {
   "cell_type": "markdown",
   "id": "5b722036",
   "metadata": {},
   "source": []
  }
 ],
 "metadata": {
  "kernelspec": {
   "display_name": "Python 3.8.10 ('metodosTP3')",
   "language": "python",
   "name": "python3"
  },
  "language_info": {
   "codemirror_mode": {
    "name": "ipython",
    "version": 3
   },
   "file_extension": ".py",
   "mimetype": "text/x-python",
   "name": "python",
   "nbconvert_exporter": "python",
   "pygments_lexer": "ipython3",
   "version": "3.8.10"
  },
  "vscode": {
   "interpreter": {
    "hash": "6d2b9dcf3cc09f155dc25239e20d37b107e877b623aec4afa82a28ac9f5494b3"
   }
  }
 },
 "nbformat": 4,
 "nbformat_minor": 5
}
