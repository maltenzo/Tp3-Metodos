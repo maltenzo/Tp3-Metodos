{
 "cells": [
  {
   "cell_type": "code",
   "execution_count": 1,
   "id": "295ac25c",
   "metadata": {},
   "outputs": [],
   "source": [
    "import os\n",
    "import numpy as np\n",
    "from os import path\n",
    "import pandas as pd\n",
    "from itertools import combinations"
   ]
  },
  {
   "cell_type": "code",
   "execution_count": null,
   "id": "ccc55eb8",
   "metadata": {},
   "outputs": [],
   "source": []
  },
  {
   "cell_type": "code",
   "execution_count": 2,
   "id": "b6b73595",
   "metadata": {},
   "outputs": [
    {
     "name": "stdout",
     "output_type": "stream",
     "text": [
      "[3 3 3 3 3]\n"
     ]
    }
   ],
   "source": [
    "a = [1,2,3,4,5]\n",
    "b = 3 * np.ones_like(a)\n",
    "print(b)"
   ]
  },
  {
   "cell_type": "markdown",
   "id": "72d56ee3",
   "metadata": {},
   "source": [
    "#Funcion de distancia 1/4"
   ]
  },
  {
   "cell_type": "code",
   "execution_count": 3,
   "id": "338e415a",
   "metadata": {},
   "outputs": [],
   "source": [
    "def estandarizar_x(x):\n",
    "    esperanza = np.median(x)\n",
    "    varianza = np.var(x)\n",
    "    arr = (esperanza/varianza) * np.ones_like(x)\n",
    "    return x - arr"
   ]
  },
  {
   "cell_type": "code",
   "execution_count": 4,
   "id": "32d5cdce",
   "metadata": {},
   "outputs": [],
   "source": [
    "VARIABLES = [\n",
    "    \"ozone\",\n",
    "    \"radiation\",\n",
    "    \"wind\",\n",
    "    \"temperature\"\n",
    "]"
   ]
  },
  {
   "cell_type": "code",
   "execution_count": 5,
   "id": "48ae92c5",
   "metadata": {},
   "outputs": [],
   "source": [
    "paths = [\n",
    "    \"Resultados\",\n",
    "    \"Data\",\n",
    "    \"images\"\n",
    "]\n",
    "def crearPaths(paths=paths):\n",
    "    for p in paths:    \n",
    "        if not path.exists(f\"{os.getcwd()}/{p}\"):\n",
    "            os.mkdir(f\"{os.getcwd()}/{p}\")\n",
    "crearPaths()\n",
    "\n",
    "\n"
   ]
  },
  {
   "cell_type": "code",
   "execution_count": 6,
   "id": "47a5dcf4",
   "metadata": {},
   "outputs": [
    {
     "data": {
      "text/html": [
       "<div>\n",
       "<style scoped>\n",
       "    .dataframe tbody tr th:only-of-type {\n",
       "        vertical-align: middle;\n",
       "    }\n",
       "\n",
       "    .dataframe tbody tr th {\n",
       "        vertical-align: top;\n",
       "    }\n",
       "\n",
       "    .dataframe thead th {\n",
       "        text-align: right;\n",
       "    }\n",
       "</style>\n",
       "<table border=\"1\" class=\"dataframe\">\n",
       "  <thead>\n",
       "    <tr style=\"text-align: right;\">\n",
       "      <th></th>\n",
       "      <th>X</th>\n",
       "      <th>radiation</th>\n",
       "      <th>temperature</th>\n",
       "      <th>wind</th>\n",
       "    </tr>\n",
       "    <tr>\n",
       "      <th>index</th>\n",
       "      <th></th>\n",
       "      <th></th>\n",
       "      <th></th>\n",
       "      <th></th>\n",
       "    </tr>\n",
       "  </thead>\n",
       "  <tbody>\n",
       "    <tr>\n",
       "      <th>1</th>\n",
       "      <td>1</td>\n",
       "      <td>190</td>\n",
       "      <td>67</td>\n",
       "      <td>7.4</td>\n",
       "    </tr>\n",
       "    <tr>\n",
       "      <th>2</th>\n",
       "      <td>2</td>\n",
       "      <td>118</td>\n",
       "      <td>72</td>\n",
       "      <td>8.0</td>\n",
       "    </tr>\n",
       "    <tr>\n",
       "      <th>3</th>\n",
       "      <td>3</td>\n",
       "      <td>149</td>\n",
       "      <td>74</td>\n",
       "      <td>12.6</td>\n",
       "    </tr>\n",
       "    <tr>\n",
       "      <th>4</th>\n",
       "      <td>4</td>\n",
       "      <td>313</td>\n",
       "      <td>62</td>\n",
       "      <td>11.5</td>\n",
       "    </tr>\n",
       "    <tr>\n",
       "      <th>5</th>\n",
       "      <td>5</td>\n",
       "      <td>299</td>\n",
       "      <td>65</td>\n",
       "      <td>8.6</td>\n",
       "    </tr>\n",
       "  </tbody>\n",
       "</table>\n",
       "</div>"
      ],
      "text/plain": [
       "       X  radiation  temperature  wind\n",
       "index                                 \n",
       "1      1        190           67   7.4\n",
       "2      2        118           72   8.0\n",
       "3      3        149           74  12.6\n",
       "4      4        313           62  11.5\n",
       "5      5        299           65   8.6"
      ]
     },
     "execution_count": 6,
     "metadata": {},
     "output_type": "execute_result"
    }
   ],
   "source": [
    "#Separo el dataset en los x y\n",
    "\n",
    "df_data = pd.read_csv(\"./dataset.csv\", index_col=\"index\")\n",
    "ozono = df_data[\"ozone\"]\n",
    "df_vars = df_data.drop(\"ozone\", axis=1)\n",
    "\n",
    "df_vars.to_csv(\"Data/variables.csv\")\n",
    "ozono.to_csv(\"Data/ozono.csv\")\n",
    "df_vars.head()"
   ]
  },
  {
   "cell_type": "code",
   "execution_count": 3,
   "id": "aaf1ff3f",
   "metadata": {},
   "outputs": [
    {
     "name": "stdout",
     "output_type": "stream",
     "text": [
      "[[0 1 2]\n",
      " [0 1 2]\n",
      " [0 1 2]]\n"
     ]
    },
    {
     "ename": "ValueError",
     "evalue": "The truth value of an array with more than one element is ambiguous. Use a.any() or a.all()",
     "output_type": "error",
     "traceback": [
      "\u001b[1;31m---------------------------------------------------------------------------\u001b[0m",
      "\u001b[1;31mValueError\u001b[0m                                Traceback (most recent call last)",
      "\u001b[1;32md:\\Apuntes\\MetodosNumericos\\TP3\\Tp3-Metodos\\Untitled.ipynb Cell 5'\u001b[0m in \u001b[0;36m<cell line: 116>\u001b[1;34m()\u001b[0m\n\u001b[0;32m    <a href='vscode-notebook-cell:/d%3A/Apuntes/MetodosNumericos/TP3/Tp3-Metodos/Untitled.ipynb#ch0000004?line=115'>116</a>\u001b[0m \u001b[39mif\u001b[39;00m \u001b[39m__name__\u001b[39m \u001b[39m==\u001b[39m \u001b[39m\"\u001b[39m\u001b[39m__main__\u001b[39m\u001b[39m\"\u001b[39m:\n\u001b[0;32m    <a href='vscode-notebook-cell:/d%3A/Apuntes/MetodosNumericos/TP3/Tp3-Metodos/Untitled.ipynb#ch0000004?line=116'>117</a>\u001b[0m     start \u001b[39m=\u001b[39m time\u001b[39m.\u001b[39mtime()\n\u001b[1;32m--> <a href='vscode-notebook-cell:/d%3A/Apuntes/MetodosNumericos/TP3/Tp3-Metodos/Untitled.ipynb#ch0000004?line=118'>119</a>\u001b[0m     main()\n\u001b[0;32m    <a href='vscode-notebook-cell:/d%3A/Apuntes/MetodosNumericos/TP3/Tp3-Metodos/Untitled.ipynb#ch0000004?line=120'>121</a>\u001b[0m     end \u001b[39m=\u001b[39m time\u001b[39m.\u001b[39m time()\n",
      "\u001b[1;32md:\\Apuntes\\MetodosNumericos\\TP3\\Tp3-Metodos\\Untitled.ipynb Cell 5'\u001b[0m in \u001b[0;36mmain\u001b[1;34m()\u001b[0m\n\u001b[0;32m    <a href='vscode-notebook-cell:/d%3A/Apuntes/MetodosNumericos/TP3/Tp3-Metodos/Untitled.ipynb#ch0000004?line=107'>108</a>\u001b[0m loess \u001b[39m=\u001b[39m Loess(xx, y)  \n\u001b[0;32m    <a href='vscode-notebook-cell:/d%3A/Apuntes/MetodosNumericos/TP3/Tp3-Metodos/Untitled.ipynb#ch0000004?line=109'>110</a>\u001b[0m \u001b[39mfor\u001b[39;00m x \u001b[39min\u001b[39;00m xx\u001b[39m.\u001b[39mtranspose():\n\u001b[1;32m--> <a href='vscode-notebook-cell:/d%3A/Apuntes/MetodosNumericos/TP3/Tp3-Metodos/Untitled.ipynb#ch0000004?line=110'>111</a>\u001b[0m     y \u001b[39m=\u001b[39m loess\u001b[39m.\u001b[39;49mestimate(x, window\u001b[39m=\u001b[39;49m\u001b[39m3\u001b[39;49m, use_matrix\u001b[39m=\u001b[39;49m\u001b[39mTrue\u001b[39;49;00m)\n\u001b[0;32m    <a href='vscode-notebook-cell:/d%3A/Apuntes/MetodosNumericos/TP3/Tp3-Metodos/Untitled.ipynb#ch0000004?line=111'>112</a>\u001b[0m     \u001b[39mbreak\u001b[39;00m\n",
      "\u001b[1;32md:\\Apuntes\\MetodosNumericos\\TP3\\Tp3-Metodos\\Untitled.ipynb Cell 5'\u001b[0m in \u001b[0;36mLoess.estimate\u001b[1;34m(self, x, window, use_matrix, degree)\u001b[0m\n\u001b[0;32m     <a href='vscode-notebook-cell:/d%3A/Apuntes/MetodosNumericos/TP3/Tp3-Metodos/Untitled.ipynb#ch0000004?line=81'>82</a>\u001b[0m \u001b[39mprint\u001b[39m(min_ranges)\n\u001b[0;32m     <a href='vscode-notebook-cell:/d%3A/Apuntes/MetodosNumericos/TP3/Tp3-Metodos/Untitled.ipynb#ch0000004?line=82'>83</a>\u001b[0m \u001b[39m#hasta aca esta bien\u001b[39;00m\n\u001b[1;32m---> <a href='vscode-notebook-cell:/d%3A/Apuntes/MetodosNumericos/TP3/Tp3-Metodos/Untitled.ipynb#ch0000004?line=83'>84</a>\u001b[0m weights \u001b[39m=\u001b[39m \u001b[39mself\u001b[39;49m\u001b[39m.\u001b[39;49mget_weights(distances, min_ranges)\n\u001b[0;32m     <a href='vscode-notebook-cell:/d%3A/Apuntes/MetodosNumericos/TP3/Tp3-Metodos/Untitled.ipynb#ch0000004?line=85'>86</a>\u001b[0m wm \u001b[39m=\u001b[39m np\u001b[39m.\u001b[39mmultiply(np\u001b[39m.\u001b[39meye(window), weights)\n\u001b[0;32m     <a href='vscode-notebook-cell:/d%3A/Apuntes/MetodosNumericos/TP3/Tp3-Metodos/Untitled.ipynb#ch0000004?line=86'>87</a>\u001b[0m xm \u001b[39m=\u001b[39m np\u001b[39m.\u001b[39mones((window, degree \u001b[39m+\u001b[39m \u001b[39m1\u001b[39m))\n",
      "\u001b[1;32md:\\Apuntes\\MetodosNumericos\\TP3\\Tp3-Metodos\\Untitled.ipynb Cell 5'\u001b[0m in \u001b[0;36mLoess.get_weights\u001b[1;34m(distances, min_range)\u001b[0m\n\u001b[0;32m     <a href='vscode-notebook-cell:/d%3A/Apuntes/MetodosNumericos/TP3/Tp3-Metodos/Untitled.ipynb#ch0000004?line=65'>66</a>\u001b[0m \u001b[39m@staticmethod\u001b[39m\n\u001b[0;32m     <a href='vscode-notebook-cell:/d%3A/Apuntes/MetodosNumericos/TP3/Tp3-Metodos/Untitled.ipynb#ch0000004?line=66'>67</a>\u001b[0m \u001b[39mdef\u001b[39;00m \u001b[39mget_weights\u001b[39m(distances, min_range):\n\u001b[1;32m---> <a href='vscode-notebook-cell:/d%3A/Apuntes/MetodosNumericos/TP3/Tp3-Metodos/Untitled.ipynb#ch0000004?line=67'>68</a>\u001b[0m     max_distance \u001b[39m=\u001b[39m np\u001b[39m.\u001b[39;49mmax(distances[min_range])\n\u001b[0;32m     <a href='vscode-notebook-cell:/d%3A/Apuntes/MetodosNumericos/TP3/Tp3-Metodos/Untitled.ipynb#ch0000004?line=68'>69</a>\u001b[0m     weights \u001b[39m=\u001b[39m tricubic(distances[min_range] \u001b[39m/\u001b[39m max_distance)\n\u001b[0;32m     <a href='vscode-notebook-cell:/d%3A/Apuntes/MetodosNumericos/TP3/Tp3-Metodos/Untitled.ipynb#ch0000004?line=69'>70</a>\u001b[0m     \u001b[39mreturn\u001b[39;00m weights\n",
      "File \u001b[1;32m<__array_function__ internals>:180\u001b[0m, in \u001b[0;36mamax\u001b[1;34m(*args, **kwargs)\u001b[0m\n",
      "File \u001b[1;32mc:\\Users\\ferra\\AppData\\Local\\Programs\\Python\\Python39\\lib\\site-packages\\numpy\\core\\fromnumeric.py:2791\u001b[0m, in \u001b[0;36mamax\u001b[1;34m(a, axis, out, keepdims, initial, where)\u001b[0m\n\u001b[0;32m   2675\u001b[0m \u001b[39m@array_function_dispatch\u001b[39m(_amax_dispatcher)\n\u001b[0;32m   2676\u001b[0m \u001b[39mdef\u001b[39;00m \u001b[39mamax\u001b[39m(a, axis\u001b[39m=\u001b[39m\u001b[39mNone\u001b[39;00m, out\u001b[39m=\u001b[39m\u001b[39mNone\u001b[39;00m, keepdims\u001b[39m=\u001b[39mnp\u001b[39m.\u001b[39m_NoValue, initial\u001b[39m=\u001b[39mnp\u001b[39m.\u001b[39m_NoValue,\n\u001b[0;32m   2677\u001b[0m          where\u001b[39m=\u001b[39mnp\u001b[39m.\u001b[39m_NoValue):\n\u001b[0;32m   2678\u001b[0m     \u001b[39m\"\"\"\u001b[39;00m\n\u001b[0;32m   2679\u001b[0m \u001b[39m    Return the maximum of an array or maximum along an axis.\u001b[39;00m\n\u001b[0;32m   2680\u001b[0m \n\u001b[1;32m   (...)\u001b[0m\n\u001b[0;32m   2789\u001b[0m \u001b[39m    5\u001b[39;00m\n\u001b[0;32m   2790\u001b[0m \u001b[39m    \"\"\"\u001b[39;00m\n\u001b[1;32m-> 2791\u001b[0m     \u001b[39mreturn\u001b[39;00m _wrapreduction(a, np\u001b[39m.\u001b[39;49mmaximum, \u001b[39m'\u001b[39;49m\u001b[39mmax\u001b[39;49m\u001b[39m'\u001b[39;49m, axis, \u001b[39mNone\u001b[39;49;00m, out,\n\u001b[0;32m   2792\u001b[0m                           keepdims\u001b[39m=\u001b[39;49mkeepdims, initial\u001b[39m=\u001b[39;49minitial, where\u001b[39m=\u001b[39;49mwhere)\n",
      "File \u001b[1;32mc:\\Users\\ferra\\AppData\\Local\\Programs\\Python\\Python39\\lib\\site-packages\\numpy\\core\\fromnumeric.py:86\u001b[0m, in \u001b[0;36m_wrapreduction\u001b[1;34m(obj, ufunc, method, axis, dtype, out, **kwargs)\u001b[0m\n\u001b[0;32m     83\u001b[0m         \u001b[39melse\u001b[39;00m:\n\u001b[0;32m     84\u001b[0m             \u001b[39mreturn\u001b[39;00m reduction(axis\u001b[39m=\u001b[39maxis, out\u001b[39m=\u001b[39mout, \u001b[39m*\u001b[39m\u001b[39m*\u001b[39mpasskwargs)\n\u001b[1;32m---> 86\u001b[0m \u001b[39mreturn\u001b[39;00m ufunc\u001b[39m.\u001b[39mreduce(obj, axis, dtype, out, \u001b[39m*\u001b[39m\u001b[39m*\u001b[39mpasskwargs)\n",
      "\u001b[1;31mValueError\u001b[0m: The truth value of an array with more than one element is ambiguous. Use a.any() or a.all()"
     ]
    }
   ],
   "source": [
    "import numpy as np\n",
    "import time\n",
    "import math\n",
    "\n",
    "#le aplica la tricubica a un array\n",
    "def tricubic(x):\n",
    "    y = np.zeros_like(x)\n",
    "    idx = (x >= -1) & (x <= 1)\n",
    "    y[idx] = np.power(1.0 - np.power(np.abs(x[idx]), 3), 3)\n",
    "    return y\n",
    "\n",
    "def estandarizar(variable):\n",
    "\tesperanza = np.mean(variable)\n",
    "\tvar = np.var(variable)\n",
    "\treturn (variable - esperanza)/var\n",
    "\n",
    "class Loess(object):\n",
    "\n",
    "    @staticmethod\n",
    "    def normalize_array(array):\n",
    "        min_val = np.min(array)\n",
    "        max_val = np.max(array)\n",
    "        return (array - min_val) / (max_val - min_val), min_val, max_val\n",
    "\n",
    "    \n",
    "    def normalize_matrix(self, matrix):\n",
    "        return np.array(list(map(self.normalize_array, matrix)), dtype=object).transpose() \n",
    "\n",
    "    def __init__(self, xx, yy, degree=1):\n",
    "        self.n_vars_xx, self.array_mins_xx, self.array_maxs_xx = self.normalize_matrix(xx)\n",
    "        self.n_yy, self.min_yy, self.max_yy = self.normalize_array(yy)\n",
    "        self.degree = degree\n",
    "\n",
    "        # print(self.n_vars_xx)\n",
    "        # print(self.array_mins_xx)\n",
    "        # print(self.array_maxs_xx)\n",
    "\n",
    "    @staticmethod\n",
    "    def get_min_ranges(all_distances, window):\n",
    "        results = []\n",
    "        for distances in all_distances:\n",
    "            min_idx = np.argmin(distances)\n",
    "            n = len(distances)\n",
    "            if min_idx == 0:\n",
    "                results.append(np.arange(0, window))\n",
    "                continue\n",
    "            if min_idx == n-1:\n",
    "                results.append(np.arange(n - window, n))\n",
    "                continue\n",
    "\n",
    "            min_range = [min_idx]\n",
    "            while len(min_range) < window:\n",
    "                i0 = min_range[0]\n",
    "                i1 = min_range[-1]\n",
    "                if i0 == 0:\n",
    "                    min_range.append(i1 + 1)\n",
    "                elif i1 == n-1:\n",
    "                    min_range.insert(0, i0 - 1)\n",
    "                elif distances[i0-1] < distances[i1+1]:\n",
    "                    min_range.insert(0, i0 - 1)\n",
    "                else:\n",
    "                    min_range.append(i1 + 1)\n",
    "            results.append(np.array(min_range))\n",
    "        return np.array(results)\n",
    "\n",
    "    @staticmethod\n",
    "    def get_weights(distances, min_range):\n",
    "        max_distance = np.max(distances[min_range])\n",
    "        weights = tricubic(distances[min_range] / max_distance)\n",
    "        return weights\n",
    "\n",
    "    def normalize_x(self, array_of_values):\n",
    "        return (array_of_values - self.array_mins_xx) / (self.array_maxs_xx - self.array_mins_xx)\n",
    "\n",
    "    def denormalize_y(self, value):\n",
    "        return value * (self.max_yy - self.min_yy) + self.min_yy\n",
    "\n",
    "    def estimate(self, x, window, use_matrix=False, degree=1):\n",
    "        n_x = self.normalize_x(x)\n",
    "        distances = np.abs(self.n_vars_xx - np.ones_like(self.n_vars_xx) * n_x)  #n_vars_xxi - [n_xi for range(n_vars_xxi.size)]\n",
    "        min_ranges = self.get_min_ranges(distances, window)\n",
    "        print(min_ranges)\n",
    "        #hasta aca esta bien\n",
    "        weights = self.get_weights(distances, min_ranges)\n",
    "\n",
    "        wm = np.multiply(np.eye(window), weights)\n",
    "        xm = np.ones((window, degree + 1))\n",
    "        xp = np.array([[math.pow(n_x, p)] for p in range(degree + 1)])\n",
    "        for i in range(1, degree + 1):\n",
    "            xm[:, i] = np.power(self.n_vars_xx[min_ranges], i)\n",
    "\n",
    "        ym = self.n_yy[min_ranges]\n",
    "        xmt_wm = np.transpose(xm) @ wm\n",
    "        beta = np.linalg.pinv(xmt_wm @ xm) @ xmt_wm @ ym\n",
    "        y = (beta @ xp)[0]\n",
    "            \n",
    "        return self.denormalize_y(y)\n",
    "\n",
    "\n",
    "def main():\n",
    "    xx = np.genfromtxt(\"Data/variables.csv\", delimiter=\",\", skip_header=1, usecols=(2,3,4))\n",
    "    y = np.genfromtxt(\"Data/ozono.csv\", delimiter=\",\", skip_header=1, usecols=(1))\n",
    "    \n",
    "    \n",
    "    xx = np.array(list(map(estandarizar, xx.transpose()))) #lo trasponemos una sola vez\n",
    "    \n",
    "    y = estandarizar(y) \n",
    "    loess = Loess(xx, y)  \n",
    "     \n",
    "    for x in xx.transpose():\n",
    "        y = loess.estimate(x, window=3, use_matrix=True)\n",
    "        break\n",
    "        \n",
    "\n",
    "\n",
    "if __name__ == \"__main__\":\n",
    "    start = time.time()\n",
    "\n",
    "    main()\n",
    "\n",
    "    end = time. time()\n",
    "    #print(end - start)\n",
    "    #print(end - start)"
   ]
  },
  {
   "cell_type": "code",
   "execution_count": 8,
   "id": "01a5e553",
   "metadata": {},
   "outputs": [],
   "source": [
    "df = pd.read_csv(\"dataset.csv\")\n",
    "def graficarDatosBrutos(xlabel, ylabel):\n",
    "    pl.clf()\n",
    "    pl.scatter(x=df[xlabel], y=df[ylabel])\n",
    "    pl.savefig(f\"./images/{ylabel}-en-funcion-de-{xlabel}.svg\")\n",
    "    pl.clf()\n",
    "    pl.scatter(x=df[ylabel], y=df[xlabel])\n",
    "    pl.savefig(f\"./images/{xlabel}-en-funcion-de-{ylabel}.svg\")"
   ]
  },
  {
   "cell_type": "code",
   "execution_count": 55,
   "id": "92c5b4d4",
   "metadata": {},
   "outputs": [
    {
     "name": "stdout",
     "output_type": "stream",
     "text": [
      "ozone radiation\n",
      "ozone wind\n",
      "ozone temperature\n",
      "radiation wind\n",
      "radiation temperature\n",
      "wind temperature\n"
     ]
    },
    {
     "data": {
      "image/png": "[encoded data removed]",
      "text/plain": [
       "<Figure size 432x288 with 1 Axes>"
      ]
     },
     "metadata": {
      "needs_background": "light"
     },
     "output_type": "display_data"
    }
   ],
   "source": [
    "combinationsOfTwo = list(combinations(VARIABLES, 2))\n",
    "for par in combinationsOfTwo :\n",
    "    print(par[0], par[1])\n",
    "    graficarDatosBrutos(par[0], par[1])\n",
    "    \n"
   ]
  },
  {
   "cell_type": "code",
   "execution_count": 9,
   "id": "35ce179a",
   "metadata": {},
   "outputs": [
    {
     "ename": "NameError",
     "evalue": "name 'pl' is not defined",
     "output_type": "error",
     "traceback": [
      "\u001b[0;31m---------------------------------------------------------------------------\u001b[0m",
      "\u001b[0;31mNameError\u001b[0m                                 Traceback (most recent call last)",
      "\u001b[1;32m/Users/enzovigneti/Desktop/Metodos/Tp3-Metodos/Untitled.ipynb Cell 12'\u001b[0m in \u001b[0;36m<cell line: 1>\u001b[0;34m()\u001b[0m\n\u001b[0;32m----> <a href='vscode-notebook-cell:/Users/enzovigneti/Desktop/Metodos/Tp3-Metodos/Untitled.ipynb#ch0000012?line=0'>1</a>\u001b[0m graficarDatosBrutos(\u001b[39m\"\u001b[39;49m\u001b[39mradiation\u001b[39;49m\u001b[39m\"\u001b[39;49m, \u001b[39m\"\u001b[39;49m\u001b[39mtemperature\u001b[39;49m\u001b[39m\"\u001b[39;49m)\n",
      "\u001b[1;32m/Users/enzovigneti/Desktop/Metodos/Tp3-Metodos/Untitled.ipynb Cell 10'\u001b[0m in \u001b[0;36mgraficarDatosBrutos\u001b[0;34m(xlabel, ylabel)\u001b[0m\n\u001b[1;32m      <a href='vscode-notebook-cell:/Users/enzovigneti/Desktop/Metodos/Tp3-Metodos/Untitled.ipynb#ch0000010?line=1'>2</a>\u001b[0m \u001b[39mdef\u001b[39;00m \u001b[39mgraficarDatosBrutos\u001b[39m(xlabel, ylabel):\n\u001b[0;32m----> <a href='vscode-notebook-cell:/Users/enzovigneti/Desktop/Metodos/Tp3-Metodos/Untitled.ipynb#ch0000010?line=2'>3</a>\u001b[0m     pl\u001b[39m.\u001b[39mclf()\n\u001b[1;32m      <a href='vscode-notebook-cell:/Users/enzovigneti/Desktop/Metodos/Tp3-Metodos/Untitled.ipynb#ch0000010?line=3'>4</a>\u001b[0m     pl\u001b[39m.\u001b[39mscatter(x\u001b[39m=\u001b[39mdf[xlabel], y\u001b[39m=\u001b[39mdf[ylabel])\n\u001b[1;32m      <a href='vscode-notebook-cell:/Users/enzovigneti/Desktop/Metodos/Tp3-Metodos/Untitled.ipynb#ch0000010?line=4'>5</a>\u001b[0m     pl\u001b[39m.\u001b[39msavefig(\u001b[39mf\u001b[39m\u001b[39m\"\u001b[39m\u001b[39m./images/\u001b[39m\u001b[39m{\u001b[39;00mylabel\u001b[39m}\u001b[39;00m\u001b[39m-en-funcion-de-\u001b[39m\u001b[39m{\u001b[39;00mxlabel\u001b[39m}\u001b[39;00m\u001b[39m.svg\u001b[39m\u001b[39m\"\u001b[39m)\n",
      "\u001b[0;31mNameError\u001b[0m: name 'pl' is not defined"
     ]
    }
   ],
   "source": [
    "graficarDatosBrutos(\"radiation\", \"temperature\")"
   ]
  },
  {
   "cell_type": "code",
   "execution_count": null,
   "id": "c486d1a3",
   "metadata": {},
   "outputs": [],
   "source": []
  }
 ],
 "metadata": {
  "kernelspec": {
   "display_name": "Python 3.9.13 64-bit",
   "language": "python",
   "name": "python3"
  },
  "language_info": {
   "codemirror_mode": {
    "name": "ipython",
    "version": 3
   },
   "file_extension": ".py",
   "mimetype": "text/x-python",
   "name": "python",
   "nbconvert_exporter": "python",
   "pygments_lexer": "ipython3",
   "version": "3.9.13"
  },
  "vscode": {
   "interpreter": {
    "hash": "889c0b3ca612a67eaa1dc5740a27885fb9965c2660345635b57c83d6520625b4"
   }
  }
 },
 "nbformat": 4,
 "nbformat_minor": 5
}
